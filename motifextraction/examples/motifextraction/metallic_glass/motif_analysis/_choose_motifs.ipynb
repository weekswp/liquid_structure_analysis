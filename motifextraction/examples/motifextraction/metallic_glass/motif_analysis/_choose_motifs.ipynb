{
 "cells": [
  {
   "cell_type": "code",
   "execution_count": 1,
   "metadata": {
    "collapsed": true
   },
   "outputs": [],
   "source": [
    "%matplotlib inline\n",
    "import matplotlib\n",
    "import matplotlib.pyplot as plt\n",
    "\n",
    "import sys\n",
    "import itertools\n",
    "from collections import Counter, defaultdict\n",
    "import numpy as np\n",
    "import scipy.stats, scipy.spatial, scipy.signal\n",
    "import os\n",
    "import json\n",
    "from path import Path; Path.stem = Path.namebase\n",
    "from natsort import natsorted\n",
    "from tqdm import tqdm\n",
    "\n",
    "from ppm3d import Cluster, align, AlignedData\n",
    "from motifextraction import load_cns\n",
    "from motifextraction.utils import get_norm_factors, FractionalCounter"
   ]
  },
  {
   "cell_type": "code",
   "execution_count": 2,
   "metadata": {
    "collapsed": true
   },
   "outputs": [],
   "source": [
    "data_path = Path(\"../data\")\n",
    "cluster_path = data_path / \"clusters\"\n",
    "motif_path = data_path / \"averaged\"\n",
    "motif_errors_path = data_path / \"motif_errors\"\n",
    "errors_path = data_path / \"errors\""
   ]
  },
  {
   "cell_type": "code",
   "execution_count": 3,
   "metadata": {},
   "outputs": [
    {
     "name": "stdout",
     "output_type": "stream",
     "text": [
      "Loading cns...\n",
      "9826\n",
      "Counter({12: 2285, 13: 1980, 11: 1929, 10: 1441, 14: 1400, 15: 440, 9: 281, 16: 58, 8: 8, 17: 4})\n"
     ]
    }
   ],
   "source": [
    "cluster_cns = load_cns(cluster_path).astype(int)\n",
    "NCLUSTERS = len(cluster_cns)\n",
    "print(NCLUSTERS)\n",
    "print(Counter(cluster_cns))"
   ]
  },
  {
   "cell_type": "code",
   "execution_count": 4,
   "metadata": {},
   "outputs": [
    {
     "name": "stdout",
     "output_type": "stream",
     "text": [
      "128\n"
     ]
    }
   ],
   "source": [
    "motif_fns = natsorted(motif_path.glob(\"*.xyz\"))\n",
    "motif_fns = [f for f in motif_fns if not f.stem.startswith(\"ignore\")]\n",
    "#motif_fns = [motif_fns[-1]] + motif_fns[:-1]  # move the CN 9 motif to the beginning\n",
    "#motif_fns = [\"final_motifs/\" + f for f in motif_fns]\n",
    "#print(motif_fns)\n",
    "NMOTIFS = len(motif_fns)\n",
    "print(NMOTIFS)\n",
    "\n",
    "#figure_labels = ['a', 'b', 'c', 'd', 'e', 'f', 'g', 'h', 'j', 'k', 'i', 'l', 'm', 'n', 'o', 'p']\n",
    "#for fn, l in zip(motif_fns, figure_labels):\n",
    "#    print(l, fn)"
   ]
  },
  {
   "cell_type": "code",
   "execution_count": 5,
   "metadata": {
    "collapsed": true
   },
   "outputs": [],
   "source": [
    "motifs = [Cluster(filename=fn) for fn in motif_fns]"
   ]
  },
  {
   "cell_type": "code",
   "execution_count": 20,
   "metadata": {},
   "outputs": [
    {
     "data": {
      "text/plain": [
       "27"
      ]
     },
     "execution_count": 20,
     "metadata": {},
     "output_type": "execute_result"
    }
   ],
   "source": [
    "CN = 12\n",
    "motifs_12 = [motif for motif in motifs if motif.CN == CN]\n",
    "len(motifs_12)"
   ]
  },
  {
   "cell_type": "code",
   "execution_count": null,
   "metadata": {
    "collapsed": true
   },
   "outputs": [],
   "source": []
  },
  {
   "cell_type": "code",
   "execution_count": 21,
   "metadata": {
    "collapsed": true
   },
   "outputs": [],
   "source": [
    "# Load norm factors\n",
    "with open(data_path / \"norm_factors.json\") as f:\n",
    "    _norm_factors = json.load(f)\n",
    "    L2_norm_factors = _norm_factors[\"L2\"]\n",
    "    L1_norm_factors = _norm_factors[\"L1\"]\n",
    "    Linf_norm_factors = _norm_factors[\"Linf\"]\n",
    "    angular_norm_factors = _norm_factors[\"angular\"]"
   ]
  },
  {
   "cell_type": "code",
   "execution_count": 22,
   "metadata": {},
   "outputs": [
    {
     "name": "stdout",
     "output_type": "stream",
     "text": [
      "(128, 9826)\n"
     ]
    }
   ],
   "source": [
    "# Load motif errors\n",
    "motif_errors = np.zeros((NMOTIFS, NCLUSTERS, 4))\n",
    "motif_errors.fill(np.nan)\n",
    "for i, fn in enumerate(motif_fns):\n",
    "    stem = '_'.join(fn.namebase.split('_')[:])\n",
    "    efn = motif_errors_path / (stem + '_errors.npy')\n",
    "    motif_errors[i, :, :] = np.load(efn)\n",
    "\n",
    "motif_errors[:, :, 0]\n",
    "motif_errors[:, :, 0][np.where(motif_errors[:, :, 0] > L2_norm_factors['set_to_inf_before_dividing'])] = np.inf\n",
    "motif_errors[:, :, 0][np.isinf(motif_errors[:, :, 0])] = np.nan\n",
    "motif_errors[:, :, 0] /= L2_norm_factors['divide_by']\n",
    "\n",
    "motif_errors[:, :, 1]\n",
    "motif_errors[:, :, 1][np.where(motif_errors[:, :, 1] > L1_norm_factors['set_to_inf_before_dividing'])] = np.inf\n",
    "motif_errors[:, :, 1][np.isinf(motif_errors[:, :, 1])] = np.nan\n",
    "motif_errors[:, :, 1] /= L1_norm_factors['divide_by']\n",
    "\n",
    "motif_errors[:, :, 2]\n",
    "motif_errors[:, :, 2][np.where(motif_errors[:, :, 2] > Linf_norm_factors['set_to_inf_before_dividing'])] = np.inf\n",
    "motif_errors[:, :, 2][np.isinf(motif_errors[:, :, 2])] = np.nan\n",
    "motif_errors[:, :, 2] /= Linf_norm_factors['divide_by']\n",
    "\n",
    "motif_errors[:, :, 3]\n",
    "motif_errors[:, :, 3][np.where(motif_errors[:, :, 3] > angular_norm_factors['set_to_inf_before_dividing'])] = np.inf\n",
    "motif_errors[:, :, 3][np.isinf(motif_errors[:, :, 3])] = np.nan\n",
    "motif_errors[:, :, 3] /= angular_norm_factors['divide_by']\n",
    "\n",
    "motif_errors = scipy.stats.gmean(motif_errors, axis=2)\n",
    "print(motif_errors.shape)"
   ]
  },
  {
   "cell_type": "code",
   "execution_count": 23,
   "metadata": {},
   "outputs": [
    {
     "data": {
      "text/plain": [
       "27"
      ]
     },
     "execution_count": 23,
     "metadata": {},
     "output_type": "execute_result"
    }
   ],
   "source": [
    "motif_errors_12 = [motif_errors[i, :] for i, motif in enumerate(motifs) if motif.CN == CN]\n",
    "len(motif_errors_12)"
   ]
  },
  {
   "cell_type": "code",
   "execution_count": 6,
   "metadata": {
    "collapsed": true
   },
   "outputs": [],
   "source": [
    "def smooth(y):\n",
    "    wl = max(len(y) // 3, 11)\n",
    "    if wl % 2 == 0:\n",
    "        wl += 1\n",
    "    return scipy.signal.savgol_filter(y, window_length=wl, polyorder=3)"
   ]
  },
  {
   "cell_type": "code",
   "execution_count": 7,
   "metadata": {
    "collapsed": true
   },
   "outputs": [],
   "source": [
    "def get_cdf(errors):\n",
    "    h, bins = np.histogram(errors, bins=30)\n",
    "    centers = (bins[:-1] + bins[1:]) / 2\n",
    "    s = smooth(h)\n",
    "    width = centers[1] - centers[0]\n",
    "    #plt.bar(centers, h, align='center', width=width)\n",
    "    #plt.plot(centers, s, color='orange')\n",
    "    #plt.show()\n",
    "\n",
    "    area = np.sum(s * width)\n",
    "    pdf = s / area\n",
    "    #plt.plot(centers, pdf)\n",
    "    #plt.show()\n",
    "\n",
    "    cdf = np.cumsum(pdf) * width\n",
    "    #plt.plot(centers, cdf)\n",
    "    #plt.show()\n",
    "    \n",
    "    fit = scipy.interpolate.interp1d(centers, cdf, fill_value='extrapolate')\n",
    "    return fit"
   ]
  },
  {
   "cell_type": "code",
   "execution_count": 26,
   "metadata": {},
   "outputs": [
    {
     "name": "stdout",
     "output_type": "stream",
     "text": [
      "27\n"
     ]
    }
   ],
   "source": [
    "pcdfs = []\n",
    "for i in range(len(motif_errors_12)):\n",
    "    errors = motif_errors_12[i]\n",
    "    errors = errors[np.where(~np.isnan(errors))]\n",
    "    cdf = get_cdf(errors)\n",
    "    X = np.arange(np.amin(errors), np.amax(errors), 0.001)\n",
    "    Y = cdf(X)\n",
    "    \n",
    "    probs = cdf(motif_errors_12[i])\n",
    "    pcdfs.append(probs)\n",
    "    #plt.scatter(list(range(NCLUSTERS)), probs, marker=',', s=1)\n",
    "    \n",
    "    \n",
    "    #plt.title(motifs_12[i].filename.stem)\n",
    "    #plt.plot(X, 1-Y)\n",
    "    #plt.show()\n",
    "print(len(pcdfs))"
   ]
  },
  {
   "cell_type": "code",
   "execution_count": 27,
   "metadata": {
    "collapsed": true
   },
   "outputs": [],
   "source": [
    "\"\"\"\n",
    "results = []\n",
    "indexes = list(range(len(pcdfs)))\n",
    "for i, (i1, i2) in enumerate(itertools.combinations(indexes, 2)):\n",
    "    p1 = pcdfs[i1]\n",
    "    p2 = pcdfs[i2]\n",
    "    fn1 = motifs_12[i1].filename.stem\n",
    "    fn2 = motifs_12[i2].filename.stem\n",
    "    #print(p1.shape, p2.shape)\n",
    "    a = np.where( (~np.isnan(p1)) & (~np.isnan(p2)) )\n",
    "    p1, p2 = p1[a], p2[a]\n",
    "    #print(p1.shape, p2.shape)\n",
    "    #pr, _ = scipy.stats.pearsonr(p1, p2)\n",
    "    pr = np.sum((p1 * p2)) / len(p1)\n",
    "    results.append((pr, fn1, fn2))\n",
    "results.sort(key=lambda trip: trip[0])\n",
    "print(results[0])\n",
    "for i, (pr, fn1, fn2) in enumerate(results):\n",
    "    plt.scatter([i], [pr])\n",
    "\"\"\";"
   ]
  },
  {
   "cell_type": "code",
   "execution_count": 28,
   "metadata": {
    "collapsed": true
   },
   "outputs": [],
   "source": [
    "\"\"\"\n",
    "results = []\n",
    "indexes = list(range(len(motif_errors_12)))\n",
    "for i, (i1, i2) in enumerate(itertools.combinations(indexes, 2)):\n",
    "    p1 = motif_errors_12[i1]\n",
    "    p2 = motif_errors_12[i2]\n",
    "    fn1 = motifs_12[i1].filename.stem\n",
    "    fn2 = motifs_12[i2].filename.stem\n",
    "    #print(p1.shape, p2.shape)\n",
    "    a = np.where( (~np.isnan(p1)) & (~np.isnan(p2)) )\n",
    "    p1, p2 = p1[a], p2[a]\n",
    "    #print(p1.shape, p2.shape)\n",
    "    pr, _ = scipy.stats.pearsonr(p1, p2)\n",
    "    #pr = np.sum((p1 * p2)) / len(p1)\n",
    "    results.append((pr, fn1, fn2))\n",
    "results.sort(key=lambda trip: trip[0])\n",
    "print(results[0])\n",
    "for i, (pr, fn1, fn2) in enumerate(results):\n",
    "    plt.scatter([i], [pr])\n",
    "\"\"\";"
   ]
  },
  {
   "cell_type": "code",
   "execution_count": null,
   "metadata": {
    "collapsed": true
   },
   "outputs": [],
   "source": []
  },
  {
   "cell_type": "code",
   "execution_count": 63,
   "metadata": {},
   "outputs": [
    {
     "name": "stderr",
     "output_type": "stream",
     "text": [
      "351it [00:00, 2909.67it/s]\n",
      "0it [00:00, ?it/s]"
     ]
    },
    {
     "name": "stdout",
     "output_type": "stream",
     "text": [
      "(0.59901675634083396, ['averaged_sigma1_32', 'averaged_sigma2_7'])\n"
     ]
    },
    {
     "name": "stderr",
     "output_type": "stream",
     "text": [
      "2925it [00:01, 2341.75it/s]\n",
      "200it [00:00, 1996.44it/s]"
     ]
    },
    {
     "name": "stdout",
     "output_type": "stream",
     "text": [
      "(0.55004666541654557, ['averaged_sigma1_23', 'averaged_sigma2_6', 'averaged_sigma2_7'])\n"
     ]
    },
    {
     "name": "stderr",
     "output_type": "stream",
     "text": [
      "17550it [00:08, 1968.96it/s]\n"
     ]
    },
    {
     "name": "stdout",
     "output_type": "stream",
     "text": [
      "(0.47886191034710845, ['averaged_sigma1_12', 'averaged_sigma1_21', 'averaged_sigma2_6', 'averaged_sigma2_7'])\n"
     ]
    },
    {
     "data": {
      "image/png": "[encoded data removed]",
      "text/plain": [
       "<matplotlib.figure.Figure at 0x7f8fc80ac128>"
      ]
     },
     "metadata": {},
     "output_type": "display_data"
    }
   ],
   "source": [
    "indexes = list(range(len(pcdfs)))\n",
    "for N in range(2, 5):\n",
    "    results = []\n",
    "    for i, iss in tqdm(enumerate(itertools.combinations(indexes, N))):\n",
    "        ps = []\n",
    "        fns = []\n",
    "        for n in range(N):\n",
    "            ps.append(pcdfs[iss[n]])\n",
    "            fns.append(motifs_12[iss[n]].filename.stem)\n",
    "        #print(p1.shape, p2.shape)\n",
    "        a = np.zeros((NCLUSTERS,)).astype(np.bool)\n",
    "        a.fill(True)\n",
    "        for n in range(N):\n",
    "            a = np.logical_and(a, ~np.isnan(ps[n]))\n",
    "        a = np.where(a)\n",
    "        for n in range(N):\n",
    "            ps[n] = ps[n][a]\n",
    "        ps = np.array(ps)\n",
    "        pr = np.product(ps, axis=0)\n",
    "        assert pr.shape == (len(a[0]),)\n",
    "        pr = np.sum(pr) / len(a[0]) * N  # Multiplying by N (NOT 2^(N-1) ) normalizes the values wrt to N.\n",
    "        results.append((pr, fns))\n",
    "    results.sort(key=lambda trip: trip[0])\n",
    "    print(results[0])\n",
    "    X, _ = zip(*results)\n",
    "    X = list(X)\n",
    "    plt.plot(list(range(len(X))), X, label=N)\n",
    "plt.legend()\n",
    "plt.show()"
   ]
  },
  {
   "cell_type": "code",
   "execution_count": 70,
   "metadata": {},
   "outputs": [
    {
     "name": "stdout",
     "output_type": "stream",
     "text": [
      "averaged_sigma1_12 (0, 0, 12, 0, 0, 0, 0, 0, 0, 0)\n",
      "averaged_sigma1_21 (0, 3, 6, 3, 0, 0, 0, 0, 0, 0)\n",
      "averaged_sigma1_22 (0, 2, 8, 2, 0, 0, 0, 0, 0, 0)\n",
      "averaged_sigma2_6 (0, 4, 4, 4, 0, 0, 0, 0, 0, 0)\n",
      "averaged_sigma2_7 (0, 2, 8, 2, 0, 0, 0, 0, 0, 0)\n"
     ]
    }
   ],
   "source": [
    "#keep = ['averaged_sigma1_12', 'averaged_sigma1_21', 'averaged_sigma2_6', 'averaged_sigma2_7']\n",
    "keep = ['averaged_sigma1_12', 'averaged_sigma1_21', 'averaged_sigma1_22', 'averaged_sigma2_6', 'averaged_sigma2_7']\n",
    "#keep = ['averaged_sigma0_23', 'averaged_sigma1_6', 'averaged_sigma1_12', 'averaged_sigma1_21', 'averaged_sigma2_6', 'averaged_sigma2_7']\n",
    "keep = [motif for motif in motifs_12 if motif.filename.stem in keep]\n",
    "for motif in keep:\n",
    "    print(motif.filename.stem, motif.vp_index)"
   ]
  },
  {
   "cell_type": "code",
   "execution_count": 71,
   "metadata": {},
   "outputs": [
    {
     "name": "stdout",
     "output_type": "stream",
     "text": [
      "0.06305194765631597 averaged_sigma1_12 averaged_sigma1_21 0.381881742126\n",
      "0.03758276583650839 averaged_sigma1_12 averaged_sigma1_22 0.462641243634\n",
      "0.04290794333677046 averaged_sigma1_12 averaged_sigma2_6 0.215108140437\n",
      "0.051143647117979064 averaged_sigma1_12 averaged_sigma2_7 0.145645167895\n",
      "0.027679351306618086 averaged_sigma1_21 averaged_sigma1_22 0.533793861862\n",
      "0.03791249089864034 averaged_sigma1_21 averaged_sigma2_6 0.349722251607\n",
      "0.03482300295136878 averaged_sigma1_21 averaged_sigma2_7 0.340039387712\n",
      "0.03402215235246166 averaged_sigma1_22 averaged_sigma2_6 0.396842400586\n",
      "0.030616740173888383 averaged_sigma1_22 averaged_sigma2_7 0.403417915537\n",
      "0.03645338727113148 averaged_sigma2_6 averaged_sigma2_7 0.379843745811\n"
     ]
    }
   ],
   "source": [
    "from ppm3d import align, AlignedData\n",
    "for m1, m2 in itertools.combinations(keep, 2):\n",
    "    i1 = [i for i, m in enumerate(motifs_12) if m.filename == m1.filename][0]\n",
    "    i2 = [i for i, m in enumerate(motifs_12) if m.filename == m2.filename][0]\n",
    "    e1 = motif_errors_12[i1]\n",
    "    e2 = motif_errors_12[i2]\n",
    "    a = np.where( (~np.isnan(e1)) & (~np.isnan(e2)) )\n",
    "    e1, e2 = e1[a], e2[a]\n",
    "    pr, _ = scipy.stats.pearsonr(e1,e2)\n",
    "    # TODO: Use a pr cutoff of 0.55. motifs with pr > 0.55 should be considered similar.\n",
    "    \n",
    "    data = align(m1.filename, m2.filename)\n",
    "    data = AlignedData.from_mapping(data)\n",
    "    print(data.error, m1.filename.stem, m2.filename.stem, pr)"
   ]
  },
  {
   "cell_type": "code",
   "execution_count": 8,
   "metadata": {
    "collapsed": true
   },
   "outputs": [],
   "source": [
    "def merge_sets(tuple_list):\n",
    "    iset = set([frozenset(s) for s in tuple_list])  # Convert to a set of sets\n",
    "    result = []\n",
    "    while(iset):                  # While there are sets left to process:\n",
    "        nset = set(iset.pop())      # Pop a new set\n",
    "        check = len(iset)           # Does iset contain more sets\n",
    "        while check:                # Until no more sets to check:\n",
    "            check = False\n",
    "            for s in iset.copy():       # For each other set:\n",
    "                if nset.intersection(s):  # if they intersect:\n",
    "                    check = True            # Must recheck previous sets\n",
    "                    iset.remove(s)          # Remove it from remaining sets\n",
    "                    nset.update(s)          # Add it to the current set\n",
    "        result.append(tuple(nset))  # Convert back to a list of tuples \n",
    "    return result\n",
    "\n",
    "\n",
    "def remove_identical(motifs, CN):\n",
    "    if False:\n",
    "        with open(data_path / \"norm_factors.json\") as f:\n",
    "            norm_factors = json.load(f)\n",
    "        print(\"Loading affinity...\")\n",
    "        L2 = np.load(\"../data/affinities/L2_affinity.npy\")\n",
    "        L2[np.where(L2 > norm_factors['L2']['set_to_inf_before_dividing'])] = np.inf\n",
    "        L2 /= norm_factors['L2']['divide_by']\n",
    "        print(\"Fitting...\")\n",
    "        L2 = L2[np.where( (~np.isnan(L2)) & (~np.isinf(L2)) )]\n",
    "        mu, sigma = scipy.stats.norm.fit(L2)\n",
    "        del L2\n",
    "        print(\"Finished\")\n",
    "        np.save('temp.npy', np.array([mu, sigma]))\n",
    "    mu, sigma = np.load('temp.npy')\n",
    "    norm = scipy.stats.norm(mu, sigma)\n",
    "\n",
    "    # Load motif2motif_errors\n",
    "    motif2motif_errors_path = Path(\"../data/motif2motif_errors.json\")\n",
    "    if motif2motif_errors_path.exists():\n",
    "        with open(motif2motif_errors_path) as f:\n",
    "            motif2motif_errors = json.load(f)\n",
    "            motif2motif_errors = {tuple(key.split(' + ')): error for key, error in motif2motif_errors.items()}\n",
    "    else:\n",
    "        raise OSError(\"../data/motif2motif_errors.json file does not exist\")\n",
    "    filenames = {m.filename for m in motifs}\n",
    "    motif2motif_errors = {(f1, f2): v for (f1, f2), v in motif2motif_errors.items() if f1 in filenames and f2 in filenames}\n",
    "    motif2motif_sims = {key: np.exp(-v) for key, v in motif2motif_errors.items()}\n",
    "\n",
    "\n",
    "    # Remove identical motifs; I use the motif2motif_errors and the overall gmeans histogram to determine the likelihood of a given pair of motifs having their error (g) value.\n",
    "    # If the probability is < 1.5% then I consider them identical. I chose 1.5% after looking at some data.\n",
    "    #for cutoff in np.arange(0, 1, 0.00001):\n",
    "    cutoff = 0.001\n",
    "    identical = set()\n",
    "    for m1, m2 in itertools.combinations(motifs, 2):\n",
    "        nans = np.logical_or(np.isnan(m1.errors), np.isnan(m2.errors))\n",
    "        a = np.where(~nans & (cluster_cns == CN))\n",
    "        pr = scipy.stats.pearsonr(m1.errors[a], m2.errors[a])[0]\n",
    "        if pr > 0.98:\n",
    "            aligned = AlignedData.from_mapping(align(m1.filename, m2.filename))\n",
    "            l2 = aligned.error\n",
    "            if norm.cdf(l2) < cutoff:\n",
    "                #print(m1.filename.stem, m2.filename.stem,\n",
    "                #      l2, norm.cdf(l2), pr,\n",
    "                #      m1.vp_index[:4], m2.vp_index[:4])\n",
    "                #a = tuple(sorted([f1, f2]) + [norm.cdf(l2)])\n",
    "                a = frozenset({m1, m2})\n",
    "                identical.add(a)\n",
    "        #print(norm.cdf(l2))\n",
    "    identical = merge_sets(identical)\n",
    "\n",
    "    all_in_identical = [m.filename for someset in identical for m in someset]\n",
    "    keep = [motif.filename for motif in motifs if motif.filename not in all_in_identical]\n",
    "    # also keep the best one in each set of identicals\n",
    "    for someset in identical:\n",
    "        someset = list(someset)\n",
    "        #print(someset)\n",
    "        means = []\n",
    "        for motif in someset:\n",
    "            #print(motif.filename, motif.vp_index[:4])\n",
    "            means.append(np.nanmean(motif.errors[np.where(cluster_cns == CN)]))\n",
    "        k = np.argmin(means)\n",
    "        keep.append(someset[k])\n",
    "        #print()\n",
    "    motifs = [motif for motif in motifs if motif.filename in keep]\n",
    "    return motifs\n",
    "    #print(f\"After removing identical motifs, {len(motifs)} are left.\")\n",
    "    #print(\"They are:\")\n",
    "    #for motif in motifs:\n",
    "    #    print(motif.filename, motif.vp_index[:4])"
   ]
  },
  {
   "cell_type": "code",
   "execution_count": 44,
   "metadata": {},
   "outputs": [],
   "source": [
    "def load_errors(motifs):\n",
    "    # Load norm factors\n",
    "    with open(data_path / \"norm_factors.json\") as f:\n",
    "        _norm_factors = json.load(f)\n",
    "        L2_norm_factors = _norm_factors[\"L2\"]\n",
    "        L1_norm_factors = _norm_factors[\"L1\"]\n",
    "        Linf_norm_factors = _norm_factors[\"Linf\"]\n",
    "        angular_norm_factors = _norm_factors[\"angular\"]\n",
    "    \n",
    "    # Load motif errors\n",
    "    motif_errors = np.zeros((len(motifs), NCLUSTERS, 4))\n",
    "    motif_errors.fill(np.nan)\n",
    "    for i, motif in enumerate(motifs):\n",
    "        fn = Path(motif.filename)\n",
    "        stem = '_'.join(fn.namebase.split('_')[:])\n",
    "        efn = motif_errors_path / (stem + '_errors.npy')\n",
    "        motif_errors[i, :, :] = np.load(efn)\n",
    "\n",
    "    motif_errors[:, :, 0]\n",
    "    motif_errors[:, :, 0][np.where(motif_errors[:, :, 0] > L2_norm_factors['set_to_inf_before_dividing'])] = np.inf\n",
    "    motif_errors[:, :, 0][np.isinf(motif_errors[:, :, 0])] = np.nan\n",
    "    motif_errors[:, :, 0] /= L2_norm_factors['divide_by']\n",
    "\n",
    "    motif_errors[:, :, 1]\n",
    "    motif_errors[:, :, 1][np.where(motif_errors[:, :, 1] > L1_norm_factors['set_to_inf_before_dividing'])] = np.inf\n",
    "    motif_errors[:, :, 1][np.isinf(motif_errors[:, :, 1])] = np.nan\n",
    "    motif_errors[:, :, 1] /= L1_norm_factors['divide_by']\n",
    "\n",
    "    motif_errors[:, :, 2]\n",
    "    motif_errors[:, :, 2][np.where(motif_errors[:, :, 2] > Linf_norm_factors['set_to_inf_before_dividing'])] = np.inf\n",
    "    motif_errors[:, :, 2][np.isinf(motif_errors[:, :, 2])] = np.nan\n",
    "    motif_errors[:, :, 2] /= Linf_norm_factors['divide_by']\n",
    "\n",
    "    motif_errors[:, :, 3]\n",
    "    motif_errors[:, :, 3][np.where(motif_errors[:, :, 3] > angular_norm_factors['set_to_inf_before_dividing'])] = np.inf\n",
    "    motif_errors[:, :, 3][np.isinf(motif_errors[:, :, 3])] = np.nan\n",
    "    motif_errors[:, :, 3] /= angular_norm_factors['divide_by']\n",
    "\n",
    "    motif_errors = scipy.stats.gmean(motif_errors, axis=2)\n",
    "    #print(motif_errors.shape)\n",
    "    return motif_errors\n",
    "\n",
    "\n",
    "def find_basis(motifs, motif_errors, cluster_cns):\n",
    "    \"\"\"\n",
    "    `motifs` should be a list of motifs with the SAME coordination number.\n",
    "    \n",
    "    `motif_errors` should be a corresponding list of errors for the motifs.\n",
    "    \"\"\"\n",
    "    pcdfs = []\n",
    "    for i in range(len(motif_errors)):\n",
    "        errors = motif_errors[i]\n",
    "        errors = errors[np.where(~np.isnan(errors))]\n",
    "        cdf = get_cdf(errors)\n",
    "        X = np.arange(np.amin(errors), np.amax(errors), 0.001)\n",
    "        Y = cdf(X)\n",
    "\n",
    "        probs = cdf(motif_errors[i])\n",
    "        pcdfs.append(probs)\n",
    "    print(len(pcdfs))\n",
    "    \n",
    "    best = []\n",
    "    \n",
    "    results = []\n",
    "    for motif, p in zip(motifs, pcdfs):\n",
    "        a = np.where( (cluster_cns == motif.CN) & (~np.isnan(p)) )\n",
    "        p = p[a]\n",
    "        assert p.shape == (len(a[0]),)\n",
    "        x = np.mean(p)\n",
    "        results.append(x)\n",
    "    idx = np.argmin(results)\n",
    "    best.append((results[idx], [motifs[idx]]))\n",
    "    \n",
    "    indexes = list(range(len(pcdfs)))\n",
    "    for N in range(2, len(motifs)+1):\n",
    "        results = []\n",
    "        for i, iss in tqdm(enumerate(itertools.combinations(indexes, N))):\n",
    "            ps = []\n",
    "            _motifs = []\n",
    "            for n in range(N):\n",
    "                ps.append(pcdfs[iss[n]])\n",
    "                _motifs.append(motifs[iss[n]])\n",
    "            #print(p1.shape, p2.shape)\n",
    "            #a = np.zeros((NCLUSTERS,)).astype(np.bool)\n",
    "            #a.fill(True)\n",
    "            a = (cluster_cns == motifs[iss[n]].CN)\n",
    "            for n in range(N):\n",
    "                a = np.logical_and(a, ~np.isnan(ps[n]))\n",
    "            a = np.where(a)\n",
    "            for n in range(N):\n",
    "                ps[n] = ps[n][a]\n",
    "            ps = np.array(ps)\n",
    "            x = np.product(ps, axis=0)\n",
    "            assert x.shape == (len(a[0]),)\n",
    "            x = np.sum(x) / len(a[0]) * N  # Multiplying by N (NOT 2^(N-1) ) normalizes the values wrt to N.\n",
    "            results.append((x, _motifs))\n",
    "        results.sort(key=lambda trip: trip[0])\n",
    "        best.append(results[0])\n",
    "        \n",
    "        \n",
    "        x, keep = results[0]\n",
    "        for motif in keep:\n",
    "            print(motif.filename.stem, motif.vp_index)\n",
    "        \n",
    "        xs = []\n",
    "        for m1, m2 in itertools.combinations(keep, 2):\n",
    "            i1 = [i for i, m in enumerate(motifs) if m.filename == m1.filename][0]\n",
    "            i2 = [i for i, m in enumerate(motifs) if m.filename == m2.filename][0]\n",
    "            e1 = motif_errors[i1]\n",
    "            e2 = motif_errors[i2]\n",
    "            a = np.where( (~np.isnan(e1)) & (~np.isnan(e2)) )\n",
    "            e1, e2 = e1[a], e2[a]\n",
    "            x, _ = scipy.stats.pearsonr(e1,e2)\n",
    "            # TODO: Use a x cutoff of 0.55. motifs with x > 0.55 should be considered similar.\n",
    "\n",
    "            data = align(m1.filename, m2.filename)\n",
    "            data = AlignedData.from_mapping(data)\n",
    "            print(data.error, m1.filename.stem, m2.filename.stem, x)\n",
    "            xs.append(x)\n",
    "        xs = np.array(xs)\n",
    "    \n",
    "        \n",
    "        X, _ = zip(*results)\n",
    "        X = list(X)\n",
    "        plt.plot(X, label=N)\n",
    "        \n",
    "        if (xs > 0.80).any():\n",
    "        #if N == 5:\n",
    "            plt.legend()\n",
    "            plt.show()\n",
    "            return best[-2][1]\n",
    "        \n",
    "    plt.legend()\n",
    "    plt.show()"
   ]
  },
  {
   "cell_type": "code",
   "execution_count": 47,
   "metadata": {},
   "outputs": [
    {
     "name": "stdout",
     "output_type": "stream",
     "text": [
      "Identifying basis set for CN 9:\n",
      "7\n"
     ]
    },
    {
     "name": "stderr",
     "output_type": "stream",
     "text": [
      "1it [00:00, 1190.21it/s]"
     ]
    },
    {
     "name": "stdout",
     "output_type": "stream",
     "text": [
      "After removing identical motifs:\n",
      "2\n",
      "2\n",
      "averaged_sigma2_28 (0, 3, 6, 0, 0, 0, 0, 0, 0, 0)\n",
      "averaged_sigma3_17 (0, 3, 6, 0, 0, 0, 0, 0, 0, 0)\n",
      "0.012086647611394727 averaged_sigma2_28 averaged_sigma3_17 0.841610096027\n"
     ]
    },
    {
     "name": "stderr",
     "output_type": "stream",
     "text": [
      "\n"
     ]
    },
    {
     "data": {
      "image/png": "[encoded data removed]",
      "text/plain": [
       "<matplotlib.figure.Figure at 0x7fba0b30e470>"
      ]
     },
     "metadata": {},
     "output_type": "display_data"
    },
    {
     "name": "stdout",
     "output_type": "stream",
     "text": [
      "Final results for CN=9\n",
      "averaged_sigma3_17 (0, 3, 6, 0, 0, 0, 0, 0, 0, 0)\n",
      "\n",
      "Identifying basis set for CN 10:\n",
      "22\n"
     ]
    },
    {
     "name": "stderr",
     "output_type": "stream",
     "text": [
      "28it [00:00, 4466.27it/s]"
     ]
    },
    {
     "name": "stdout",
     "output_type": "stream",
     "text": [
      "After removing identical motifs:\n",
      "8\n",
      "8\n",
      "averaged_sigma1_10 (0, 3, 6, 1, 0, 0, 0, 0, 0, 0)\n",
      "averaged_sigma3_12 (0, 3, 6, 1, 0, 0, 0, 0, 0, 0)\n",
      "0.017943031690072594 averaged_sigma1_10 averaged_sigma3_12 0.836661536329\n"
     ]
    },
    {
     "name": "stderr",
     "output_type": "stream",
     "text": [
      "\n"
     ]
    },
    {
     "data": {
      "image/png": "[encoded data removed]",
      "text/plain": [
       "<matplotlib.figure.Figure at 0x7fba0b2665c0>"
      ]
     },
     "metadata": {},
     "output_type": "display_data"
    },
    {
     "name": "stdout",
     "output_type": "stream",
     "text": [
      "Final results for CN=10\n",
      "averaged_sigma3_12 (0, 3, 6, 1, 0, 0, 0, 0, 0, 0)\n",
      "\n",
      "Identifying basis set for CN 11:\n",
      "25\n"
     ]
    },
    {
     "name": "stderr",
     "output_type": "stream",
     "text": [
      "\r",
      "0it [00:00, ?it/s]"
     ]
    },
    {
     "name": "stdout",
     "output_type": "stream",
     "text": [
      "After removing identical motifs:\n",
      "17\n",
      "17\n"
     ]
    },
    {
     "name": "stderr",
     "output_type": "stream",
     "text": [
      "136it [00:00, 4514.79it/s]\n",
      "0it [00:00, ?it/s]"
     ]
    },
    {
     "name": "stdout",
     "output_type": "stream",
     "text": [
      "averaged_sigma0_10 (0, 2, 8, 1, 0, 0, 0, 0, 0, 0)\n",
      "averaged_sigma1_25 (0, 2, 8, 1, 0, 0, 0, 0, 0, 0)\n",
      "0.03338400107919403 averaged_sigma0_10 averaged_sigma1_25 0.694467280114\n"
     ]
    },
    {
     "name": "stderr",
     "output_type": "stream",
     "text": [
      "680it [00:00, 3946.49it/s]\n",
      "359it [00:00, 3583.66it/s]"
     ]
    },
    {
     "name": "stdout",
     "output_type": "stream",
     "text": [
      "averaged_sigma0_10 (0, 2, 8, 1, 0, 0, 0, 0, 0, 0)\n",
      "averaged_sigma1_0 (0, 2, 8, 1, 0, 0, 0, 0, 0, 0)\n",
      "averaged_sigma1_25 (0, 2, 8, 1, 0, 0, 0, 0, 0, 0)\n",
      "0.02002778335977425 averaged_sigma0_10 averaged_sigma1_0 0.780216138884\n",
      "0.03338400107919403 averaged_sigma0_10 averaged_sigma1_25 0.694467280114\n",
      "0.027043822387780598 averaged_sigma1_0 averaged_sigma1_25 0.691383077326\n"
     ]
    },
    {
     "name": "stderr",
     "output_type": "stream",
     "text": [
      "2380it [00:00, 3543.73it/s]\n"
     ]
    },
    {
     "name": "stdout",
     "output_type": "stream",
     "text": [
      "averaged_sigma0_10 (0, 2, 8, 1, 0, 0, 0, 0, 0, 0)\n",
      "averaged_sigma1_0 (0, 2, 8, 1, 0, 0, 0, 0, 0, 0)\n",
      "averaged_sigma1_25 (0, 2, 8, 1, 0, 0, 0, 0, 0, 0)\n",
      "averaged_sigma2_8 (0, 3, 6, 2, 0, 0, 0, 0, 0, 0)\n",
      "0.02002778335977425 averaged_sigma0_10 averaged_sigma1_0 0.780216138884\n",
      "0.03338400107919403 averaged_sigma0_10 averaged_sigma1_25 0.694467280114\n",
      "0.02458859565260654 averaged_sigma0_10 averaged_sigma2_8 0.647898882087\n",
      "0.027043822387780598 averaged_sigma1_0 averaged_sigma1_25 0.691383077326\n",
      "0.032337660209058525 averaged_sigma1_0 averaged_sigma2_8 0.524336641232\n",
      "0.029439060794711296 averaged_sigma1_25 averaged_sigma2_8 0.630120915711\n"
     ]
    },
    {
     "name": "stderr",
     "output_type": "stream",
     "text": [
      "6188it [00:02, 3078.07it/s]\n"
     ]
    },
    {
     "name": "stdout",
     "output_type": "stream",
     "text": [
      "averaged_sigma0_8 (0, 2, 8, 1, 0, 0, 0, 0, 0, 0)\n",
      "averaged_sigma0_10 (0, 2, 8, 1, 0, 0, 0, 0, 0, 0)\n",
      "averaged_sigma1_0 (0, 2, 8, 1, 0, 0, 0, 0, 0, 0)\n",
      "averaged_sigma1_25 (0, 2, 8, 1, 0, 0, 0, 0, 0, 0)\n",
      "averaged_sigma2_8 (0, 3, 6, 2, 0, 0, 0, 0, 0, 0)\n",
      "0.02061454179863083 averaged_sigma0_8 averaged_sigma0_10 0.763111675566\n",
      "0.01813031104981743 averaged_sigma0_8 averaged_sigma1_0 0.836749219055\n",
      "0.016610635502142933 averaged_sigma0_8 averaged_sigma1_25 0.782052211902\n",
      "0.02904989179913446 averaged_sigma0_8 averaged_sigma2_8 0.595463883188\n",
      "0.02002778335977425 averaged_sigma0_10 averaged_sigma1_0 0.780216138884\n",
      "0.03338400107919403 averaged_sigma0_10 averaged_sigma1_25 0.694467280114\n",
      "0.02458859565260654 averaged_sigma0_10 averaged_sigma2_8 0.647898882087\n",
      "0.027043822387780598 averaged_sigma1_0 averaged_sigma1_25 0.691383077326\n",
      "0.032337660209058525 averaged_sigma1_0 averaged_sigma2_8 0.524336641232\n",
      "0.029439060794711296 averaged_sigma1_25 averaged_sigma2_8 0.630120915711\n"
     ]
    },
    {
     "data": {
      "image/png": "[encoded data removed]",
      "text/plain": [
       "<matplotlib.figure.Figure at 0x7fba12c13dd8>"
      ]
     },
     "metadata": {},
     "output_type": "display_data"
    },
    {
     "name": "stdout",
     "output_type": "stream",
     "text": [
      "Final results for CN=11\n",
      "averaged_sigma0_10 (0, 2, 8, 1, 0, 0, 0, 0, 0, 0)\n",
      "averaged_sigma1_0 (0, 2, 8, 1, 0, 0, 0, 0, 0, 0)\n",
      "averaged_sigma1_25 (0, 2, 8, 1, 0, 0, 0, 0, 0, 0)\n",
      "averaged_sigma2_8 (0, 3, 6, 2, 0, 0, 0, 0, 0, 0)\n",
      "\n",
      "Identifying basis set for CN 12:\n",
      "27\n",
      "After removing identical motifs:\n",
      "23\n"
     ]
    },
    {
     "name": "stderr",
     "output_type": "stream",
     "text": [
      "253it [00:00, 4475.90it/s]"
     ]
    },
    {
     "name": "stdout",
     "output_type": "stream",
     "text": [
      "23\n",
      "averaged_sigma0_2 (0, 0, 12, 0, 0, 0, 0, 0, 0, 0)\n",
      "averaged_sigma1_26 (0, 3, 6, 3, 0, 0, 0, 0, 0, 0)\n",
      "0.031872998828685724 averaged_sigma0_2 averaged_sigma1_26 0.550207508299\n"
     ]
    },
    {
     "name": "stderr",
     "output_type": "stream",
     "text": [
      "\n",
      "1771it [00:00, 3879.99it/s]\n",
      "0it [00:00, ?it/s]"
     ]
    },
    {
     "name": "stdout",
     "output_type": "stream",
     "text": [
      "averaged_sigma0_20 (0, 2, 8, 2, 0, 0, 0, 0, 0, 0)\n",
      "averaged_sigma1_12 (0, 0, 12, 0, 0, 0, 0, 0, 0, 0)\n",
      "averaged_sigma1_26 (0, 3, 6, 3, 0, 0, 0, 0, 0, 0)\n",
      "0.03212413306657355 averaged_sigma0_20 averaged_sigma1_12 0.612719236495\n",
      "0.027246369231526686 averaged_sigma0_20 averaged_sigma1_26 0.625725319397\n",
      "0.03613788412777545 averaged_sigma1_12 averaged_sigma1_26 0.493066078992\n"
     ]
    },
    {
     "name": "stderr",
     "output_type": "stream",
     "text": [
      "8855it [00:02, 3427.91it/s]\n"
     ]
    },
    {
     "name": "stdout",
     "output_type": "stream",
     "text": [
      "averaged_sigma0_20 (0, 2, 8, 2, 0, 0, 0, 0, 0, 0)\n",
      "averaged_sigma0_23 (0, 2, 8, 2, 0, 0, 0, 0, 0, 0)\n",
      "averaged_sigma1_12 (0, 0, 12, 0, 0, 0, 0, 0, 0, 0)\n",
      "averaged_sigma2_6 (0, 4, 4, 4, 0, 0, 0, 0, 0, 0)\n",
      "0.026219213308141327 averaged_sigma0_20 averaged_sigma0_23 0.588451013636\n",
      "0.03212413306657355 averaged_sigma0_20 averaged_sigma1_12 0.612719236495\n",
      "0.031885005512380764 averaged_sigma0_20 averaged_sigma2_6 0.390363648247\n",
      "0.03660254302362301 averaged_sigma0_23 averaged_sigma1_12 0.511224130765\n"
     ]
    },
    {
     "name": "stderr",
     "output_type": "stream",
     "text": [
      "321it [00:00, 3202.67it/s]"
     ]
    },
    {
     "name": "stdout",
     "output_type": "stream",
     "text": [
      "0.03940533448979507 averaged_sigma0_23 averaged_sigma2_6 0.364441490387\n",
      "0.04290794333677046 averaged_sigma1_12 averaged_sigma2_6 0.215108140437\n"
     ]
    },
    {
     "name": "stderr",
     "output_type": "stream",
     "text": [
      "33649it [00:10, 3086.60it/s]\n"
     ]
    },
    {
     "name": "stdout",
     "output_type": "stream",
     "text": [
      "averaged_sigma0_15 (0, 0, 12, 0, 0, 0, 0, 0, 0, 0)\n",
      "averaged_sigma1_12 (0, 0, 12, 0, 0, 0, 0, 0, 0, 0)\n",
      "averaged_sigma1_21 (0, 3, 6, 3, 0, 0, 0, 0, 0, 0)\n",
      "averaged_sigma2_6 (0, 4, 4, 4, 0, 0, 0, 0, 0, 0)\n",
      "averaged_sigma2_7 (0, 2, 8, 2, 0, 0, 0, 0, 0, 0)\n",
      "0.01609234552308565 averaged_sigma0_15 averaged_sigma1_12 0.882237849359\n",
      "0.03240037062015563 averaged_sigma0_15 averaged_sigma1_21 0.45847819694\n",
      "0.03765553599078985 averaged_sigma0_15 averaged_sigma2_6 0.26094902591\n",
      "0.04300780194323999 averaged_sigma0_15 averaged_sigma2_7 0.179783971659\n",
      "0.06305194765631597 averaged_sigma1_12 averaged_sigma1_21 0.381881742126\n",
      "0.04290794333677046 averaged_sigma1_12 averaged_sigma2_6 0.215108140437\n",
      "0.051143647117979064 averaged_sigma1_12 averaged_sigma2_7 0.145645167895\n",
      "0.03791249089864034 averaged_sigma1_21 averaged_sigma2_6 0.349722251607\n",
      "0.03482300295136878 averaged_sigma1_21 averaged_sigma2_7 0.340039387712\n",
      "0.03645338727113148 averaged_sigma2_6 averaged_sigma2_7 0.379843745811\n"
     ]
    },
    {
     "data": {
      "image/png": "[encoded data removed]",
      "text/plain": [
       "<matplotlib.figure.Figure at 0x7fba146a26a0>"
      ]
     },
     "metadata": {},
     "output_type": "display_data"
    },
    {
     "name": "stdout",
     "output_type": "stream",
     "text": [
      "Final results for CN=12\n",
      "averaged_sigma0_20 (0, 2, 8, 2, 0, 0, 0, 0, 0, 0)\n",
      "averaged_sigma0_23 (0, 2, 8, 2, 0, 0, 0, 0, 0, 0)\n",
      "averaged_sigma1_12 (0, 0, 12, 0, 0, 0, 0, 0, 0, 0)\n",
      "averaged_sigma2_6 (0, 4, 4, 4, 0, 0, 0, 0, 0, 0)\n",
      "\n",
      "Identifying basis set for CN 13:\n",
      "24\n"
     ]
    },
    {
     "name": "stderr",
     "output_type": "stream",
     "text": [
      "66it [00:00, 4443.76it/s]"
     ]
    },
    {
     "name": "stdout",
     "output_type": "stream",
     "text": [
      "After removing identical motifs:\n",
      "12\n",
      "12\n",
      "averaged_sigma3_20 (0, 1, 10, 2, 0, 0, 0, 0, 0, 0)\n",
      "averaged_sigma3_23 (0, 1, 10, 2, 0, 0, 0, 0, 0, 0)\n",
      "0.024150893958825057 averaged_sigma3_20 averaged_sigma3_23 0.531402215228\n"
     ]
    },
    {
     "name": "stderr",
     "output_type": "stream",
     "text": [
      "\n",
      "220it [00:00, 3901.76it/s]\n",
      "0it [00:00, ?it/s]"
     ]
    },
    {
     "name": "stdout",
     "output_type": "stream",
     "text": [
      "averaged_sigma1_19 (0, 1, 10, 2, 0, 0, 0, 0, 0, 0)\n",
      "averaged_sigma2_3 (0, 2, 8, 3, 0, 0, 0, 0, 0, 0)\n",
      "averaged_sigma3_23 (0, 1, 10, 2, 0, 0, 0, 0, 0, 0)\n",
      "0.033243800504932135 averaged_sigma1_19 averaged_sigma2_3 0.277300206159\n",
      "0.021623352579729464 averaged_sigma1_19 averaged_sigma3_23 0.644908561845\n",
      "0.03074652315335696 averaged_sigma2_3 averaged_sigma3_23 0.282195297709\n"
     ]
    },
    {
     "name": "stderr",
     "output_type": "stream",
     "text": [
      "495it [00:00, 3547.72it/s]\n"
     ]
    },
    {
     "name": "stdout",
     "output_type": "stream",
     "text": [
      "averaged_sigma1_19 (0, 1, 10, 2, 0, 0, 0, 0, 0, 0)\n",
      "averaged_sigma2_3 (0, 2, 8, 3, 0, 0, 0, 0, 0, 0)\n",
      "averaged_sigma2_17 (0, 3, 6, 4, 0, 0, 0, 0, 0, 0)\n",
      "averaged_sigma3_23 (0, 1, 10, 2, 0, 0, 0, 0, 0, 0)\n",
      "0.033243800504932135 averaged_sigma1_19 averaged_sigma2_3 0.277300206159\n",
      "0.03630864114345149 averaged_sigma1_19 averaged_sigma2_17 0.299716106051\n",
      "0.021623352579729464 averaged_sigma1_19 averaged_sigma3_23 0.644908561845\n"
     ]
    },
    {
     "name": "stderr",
     "output_type": "stream",
     "text": [
      "\r",
      "0it [00:00, ?it/s]"
     ]
    },
    {
     "name": "stdout",
     "output_type": "stream",
     "text": [
      "0.0416545984961618 averaged_sigma2_3 averaged_sigma2_17 0.274175528439\n",
      "0.03074652315335696 averaged_sigma2_3 averaged_sigma3_23 0.282195297709\n",
      "0.036244391585978364 averaged_sigma2_17 averaged_sigma3_23 0.249612794738\n"
     ]
    },
    {
     "name": "stderr",
     "output_type": "stream",
     "text": [
      "792it [00:00, 3229.21it/s]\n"
     ]
    },
    {
     "name": "stdout",
     "output_type": "stream",
     "text": [
      "averaged_sigma1_19 (0, 1, 10, 2, 0, 0, 0, 0, 0, 0)\n",
      "averaged_sigma2_3 (0, 2, 8, 3, 0, 0, 0, 0, 0, 0)\n",
      "averaged_sigma2_17 (0, 3, 6, 4, 0, 0, 0, 0, 0, 0)\n",
      "averaged_sigma3_20 (0, 1, 10, 2, 0, 0, 0, 0, 0, 0)\n",
      "averaged_sigma3_23 (0, 1, 10, 2, 0, 0, 0, 0, 0, 0)\n",
      "0.033243800504932135 averaged_sigma1_19 averaged_sigma2_3 0.277300206159\n",
      "0.03630864114345149 averaged_sigma1_19 averaged_sigma2_17 0.299716106051\n",
      "0.01961255317804726 averaged_sigma1_19 averaged_sigma3_20 0.617889293797\n",
      "0.021623352579729464 averaged_sigma1_19 averaged_sigma3_23 0.644908561845\n",
      "0.0416545984961618 averaged_sigma2_3 averaged_sigma2_17 0.274175528439\n",
      "0.031181485106776964 averaged_sigma2_3 averaged_sigma3_20 0.37517143899\n",
      "0.03074652315335696 averaged_sigma2_3 averaged_sigma3_23 0.282195297709\n"
     ]
    },
    {
     "name": "stderr",
     "output_type": "stream",
     "text": [
      "\r",
      "0it [00:00, ?it/s]"
     ]
    },
    {
     "name": "stdout",
     "output_type": "stream",
     "text": [
      "0.031440596077641235 averaged_sigma2_17 averaged_sigma3_20 0.346277687221\n",
      "0.036244391585978364 averaged_sigma2_17 averaged_sigma3_23 0.249612794738\n",
      "0.024150893958825057 averaged_sigma3_20 averaged_sigma3_23 0.531402215228\n"
     ]
    },
    {
     "name": "stderr",
     "output_type": "stream",
     "text": [
      "924it [00:00, 2946.37it/s]\n"
     ]
    },
    {
     "name": "stdout",
     "output_type": "stream",
     "text": [
      "averaged_sigma0_18 (0, 1, 10, 2, 0, 0, 0, 0, 0, 0)\n",
      "averaged_sigma1_19 (0, 1, 10, 2, 0, 0, 0, 0, 0, 0)\n",
      "averaged_sigma2_3 (0, 2, 8, 3, 0, 0, 0, 0, 0, 0)\n",
      "averaged_sigma2_17 (0, 3, 6, 4, 0, 0, 0, 0, 0, 0)\n",
      "averaged_sigma3_20 (0, 1, 10, 2, 0, 0, 0, 0, 0, 0)\n",
      "averaged_sigma3_23 (0, 1, 10, 2, 0, 0, 0, 0, 0, 0)\n",
      "0.019776117033628797 averaged_sigma0_18 averaged_sigma1_19 0.686791845737\n",
      "0.029577170505065118 averaged_sigma0_18 averaged_sigma2_3 0.32625098259\n",
      "0.038132305347054786 averaged_sigma0_18 averaged_sigma2_17 0.286412225907\n",
      "0.024841612309319548 averaged_sigma0_18 averaged_sigma3_20 0.555350718022\n",
      "0.02279506374126192 averaged_sigma0_18 averaged_sigma3_23 0.641535475754\n",
      "0.033243800504932135 averaged_sigma1_19 averaged_sigma2_3 0.277300206159\n",
      "0.03630864114345149 averaged_sigma1_19 averaged_sigma2_17 0.299716106051\n",
      "0.01961255317804726 averaged_sigma1_19 averaged_sigma3_20 0.617889293797\n",
      "0.021623352579729464 averaged_sigma1_19 averaged_sigma3_23 0.644908561845\n",
      "0.0416545984961618 averaged_sigma2_3 averaged_sigma2_17 0.274175528439\n",
      "0.031181485106776964 averaged_sigma2_3 averaged_sigma3_20 0.37517143899\n"
     ]
    },
    {
     "name": "stderr",
     "output_type": "stream",
     "text": [
      "\r",
      "0it [00:00, ?it/s]"
     ]
    },
    {
     "name": "stdout",
     "output_type": "stream",
     "text": [
      "0.03074652315335696 averaged_sigma2_3 averaged_sigma3_23 0.282195297709\n",
      "0.031440596077641235 averaged_sigma2_17 averaged_sigma3_20 0.346277687221\n",
      "0.036244391585978364 averaged_sigma2_17 averaged_sigma3_23 0.249612794738\n",
      "0.024150893958825057 averaged_sigma3_20 averaged_sigma3_23 0.531402215228\n"
     ]
    },
    {
     "name": "stderr",
     "output_type": "stream",
     "text": [
      "792it [00:00, 2728.12it/s]\n"
     ]
    },
    {
     "name": "stdout",
     "output_type": "stream",
     "text": [
      "averaged_sigma0_18 (0, 1, 10, 2, 0, 0, 0, 0, 0, 0)\n",
      "averaged_sigma0_21 (0, 1, 10, 2, 0, 0, 0, 0, 0, 0)\n",
      "averaged_sigma2_3 (0, 2, 8, 3, 0, 0, 0, 0, 0, 0)\n",
      "averaged_sigma2_17 (0, 3, 6, 4, 0, 0, 0, 0, 0, 0)\n",
      "averaged_sigma2_29 (0, 1, 10, 2, 0, 0, 0, 0, 0, 0)\n",
      "averaged_sigma3_20 (0, 1, 10, 2, 0, 0, 0, 0, 0, 0)\n",
      "averaged_sigma3_23 (0, 1, 10, 2, 0, 0, 0, 0, 0, 0)\n",
      "0.020983383160148427 averaged_sigma0_18 averaged_sigma0_21 0.684043641526\n",
      "0.029577170505065118 averaged_sigma0_18 averaged_sigma2_3 0.32625098259\n",
      "0.038132305347054786 averaged_sigma0_18 averaged_sigma2_17 0.286412225907\n",
      "0.019262605265814286 averaged_sigma0_18 averaged_sigma2_29 0.680469403577\n",
      "0.024841612309319548 averaged_sigma0_18 averaged_sigma3_20 0.555350718022\n",
      "0.02279506374126192 averaged_sigma0_18 averaged_sigma3_23 0.641535475754\n",
      "0.03800884909206471 averaged_sigma0_21 averaged_sigma2_3 0.274800181627\n",
      "0.03584493805631619 averaged_sigma0_21 averaged_sigma2_17 0.296663675839\n",
      "0.02101239399846893 averaged_sigma0_21 averaged_sigma2_29 0.644742962063\n",
      "0.027549458099013574 averaged_sigma0_21 averaged_sigma3_20 0.573243023348\n",
      "0.01926710998727877 averaged_sigma0_21 averaged_sigma3_23 0.691097304602\n",
      "0.0416545984961618 averaged_sigma2_3 averaged_sigma2_17 0.274175528439\n",
      "0.03290696858242176 averaged_sigma2_3 averaged_sigma2_29 0.299504505702\n",
      "0.031181485106776964 averaged_sigma2_3 averaged_sigma3_20 0.37517143899\n",
      "0.03074652315335696 averaged_sigma2_3 averaged_sigma3_23 0.282195297709\n",
      "0.035402194511620313 averaged_sigma2_17 averaged_sigma2_29 0.317169532184\n",
      "0.031440596077641235 averaged_sigma2_17 averaged_sigma3_20 0.346277687221\n",
      "0.036244391585978364 averaged_sigma2_17 averaged_sigma3_23 0.249612794738\n",
      "0.019903374814897314 averaged_sigma2_29 averaged_sigma3_20 0.616982472114\n"
     ]
    },
    {
     "name": "stderr",
     "output_type": "stream",
     "text": [
      "258it [00:00, 2572.45it/s]"
     ]
    },
    {
     "name": "stdout",
     "output_type": "stream",
     "text": [
      "0.02201957147376653 averaged_sigma2_29 averaged_sigma3_23 0.620833760949\n",
      "0.024150893958825057 averaged_sigma3_20 averaged_sigma3_23 0.531402215228\n"
     ]
    },
    {
     "name": "stderr",
     "output_type": "stream",
     "text": [
      "495it [00:00, 2546.19it/s]\n"
     ]
    },
    {
     "name": "stdout",
     "output_type": "stream",
     "text": [
      "averaged_sigma0_18 (0, 1, 10, 2, 0, 0, 0, 0, 0, 0)\n",
      "averaged_sigma0_21 (0, 1, 10, 2, 0, 0, 0, 0, 0, 0)\n",
      "averaged_sigma2_3 (0, 2, 8, 3, 0, 0, 0, 0, 0, 0)\n",
      "averaged_sigma2_4 (0, 1, 10, 2, 0, 0, 0, 0, 0, 0)\n",
      "averaged_sigma2_17 (0, 3, 6, 4, 0, 0, 0, 0, 0, 0)\n",
      "averaged_sigma2_29 (0, 1, 10, 2, 0, 0, 0, 0, 0, 0)\n",
      "averaged_sigma3_20 (0, 1, 10, 2, 0, 0, 0, 0, 0, 0)\n",
      "averaged_sigma3_23 (0, 1, 10, 2, 0, 0, 0, 0, 0, 0)\n",
      "0.020983383160148427 averaged_sigma0_18 averaged_sigma0_21 0.684043641526\n",
      "0.029577170505065118 averaged_sigma0_18 averaged_sigma2_3 0.32625098259\n",
      "0.015404679294412459 averaged_sigma0_18 averaged_sigma2_4 0.727421853412\n",
      "0.038132305347054786 averaged_sigma0_18 averaged_sigma2_17 0.286412225907\n",
      "0.019262605265814286 averaged_sigma0_18 averaged_sigma2_29 0.680469403577\n",
      "0.024841612309319548 averaged_sigma0_18 averaged_sigma3_20 0.555350718022\n",
      "0.02279506374126192 averaged_sigma0_18 averaged_sigma3_23 0.641535475754\n",
      "0.03800884909206471 averaged_sigma0_21 averaged_sigma2_3 0.274800181627\n",
      "0.020970045809480958 averaged_sigma0_21 averaged_sigma2_4 0.67606450269\n",
      "0.03584493805631619 averaged_sigma0_21 averaged_sigma2_17 0.296663675839\n",
      "0.02101239399846893 averaged_sigma0_21 averaged_sigma2_29 0.644742962063\n",
      "0.027549458099013574 averaged_sigma0_21 averaged_sigma3_20 0.573243023348\n",
      "0.01926710998727877 averaged_sigma0_21 averaged_sigma3_23 0.691097304602\n",
      "0.030612096111120816 averaged_sigma2_3 averaged_sigma2_4 0.305610120528\n",
      "0.0416545984961618 averaged_sigma2_3 averaged_sigma2_17 0.274175528439\n",
      "0.03290696858242176 averaged_sigma2_3 averaged_sigma2_29 0.299504505702\n",
      "0.031181485106776964 averaged_sigma2_3 averaged_sigma3_20 0.37517143899\n",
      "0.03074652315335696 averaged_sigma2_3 averaged_sigma3_23 0.282195297709\n",
      "0.03349483120423716 averaged_sigma2_4 averaged_sigma2_17 0.308315113671\n",
      "0.016593748684404587 averaged_sigma2_4 averaged_sigma2_29 0.695110915476\n",
      "0.022928817850496386 averaged_sigma2_4 averaged_sigma3_20 0.563568767553\n",
      "0.02229897828875688 averaged_sigma2_4 averaged_sigma3_23 0.66894628178\n",
      "0.035402194511620313 averaged_sigma2_17 averaged_sigma2_29 0.317169532184\n",
      "0.031440596077641235 averaged_sigma2_17 averaged_sigma3_20 0.346277687221\n",
      "0.036244391585978364 averaged_sigma2_17 averaged_sigma3_23 0.249612794738\n",
      "0.019903374814897314 averaged_sigma2_29 averaged_sigma3_20 0.616982472114\n",
      "0.02201957147376653 averaged_sigma2_29 averaged_sigma3_23 0.620833760949\n"
     ]
    },
    {
     "name": "stderr",
     "output_type": "stream",
     "text": [
      "220it [00:00, 2391.24it/s]"
     ]
    },
    {
     "name": "stdout",
     "output_type": "stream",
     "text": [
      "0.024150893958825057 averaged_sigma3_20 averaged_sigma3_23 0.531402215228\n",
      "averaged_sigma0_18 (0, 1, 10, 2, 0, 0, 0, 0, 0, 0)\n",
      "averaged_sigma0_21 (0, 1, 10, 2, 0, 0, 0, 0, 0, 0)\n",
      "averaged_sigma2_3 (0, 2, 8, 3, 0, 0, 0, 0, 0, 0)\n",
      "averaged_sigma2_4 (0, 1, 10, 2, 0, 0, 0, 0, 0, 0)\n",
      "averaged_sigma2_13 (0, 1, 10, 2, 0, 0, 0, 0, 0, 0)\n",
      "averaged_sigma2_17 (0, 3, 6, 4, 0, 0, 0, 0, 0, 0)\n",
      "averaged_sigma2_29 (0, 1, 10, 2, 0, 0, 0, 0, 0, 0)\n",
      "averaged_sigma3_20 (0, 1, 10, 2, 0, 0, 0, 0, 0, 0)\n",
      "averaged_sigma3_23 (0, 1, 10, 2, 0, 0, 0, 0, 0, 0)\n",
      "0.020983383160148427 averaged_sigma0_18 averaged_sigma0_21 0.684043641526\n"
     ]
    },
    {
     "name": "stderr",
     "output_type": "stream",
     "text": [
      "\n"
     ]
    },
    {
     "name": "stdout",
     "output_type": "stream",
     "text": [
      "0.029577170505065118 averaged_sigma0_18 averaged_sigma2_3 0.32625098259\n",
      "0.015404679294412459 averaged_sigma0_18 averaged_sigma2_4 0.727421853412\n",
      "0.023378934874859723 averaged_sigma0_18 averaged_sigma2_13 0.642919558885\n",
      "0.038132305347054786 averaged_sigma0_18 averaged_sigma2_17 0.286412225907\n",
      "0.019262605265814286 averaged_sigma0_18 averaged_sigma2_29 0.680469403577\n",
      "0.024841612309319548 averaged_sigma0_18 averaged_sigma3_20 0.555350718022\n",
      "0.02279506374126192 averaged_sigma0_18 averaged_sigma3_23 0.641535475754\n",
      "0.03800884909206471 averaged_sigma0_21 averaged_sigma2_3 0.274800181627\n",
      "0.020970045809480958 averaged_sigma0_21 averaged_sigma2_4 0.67606450269\n",
      "0.01824377855437611 averaged_sigma0_21 averaged_sigma2_13 0.675878786484\n",
      "0.03584493805631619 averaged_sigma0_21 averaged_sigma2_17 0.296663675839\n",
      "0.02101239399846893 averaged_sigma0_21 averaged_sigma2_29 0.644742962063\n",
      "0.027549458099013574 averaged_sigma0_21 averaged_sigma3_20 0.573243023348\n",
      "0.01926710998727877 averaged_sigma0_21 averaged_sigma3_23 0.691097304602\n",
      "0.030612096111120816 averaged_sigma2_3 averaged_sigma2_4 0.305610120528\n",
      "0.03255684744378098 averaged_sigma2_3 averaged_sigma2_13 0.357025259752\n",
      "0.0416545984961618 averaged_sigma2_3 averaged_sigma2_17 0.274175528439\n",
      "0.03290696858242176 averaged_sigma2_3 averaged_sigma2_29 0.299504505702\n",
      "0.031181485106776964 averaged_sigma2_3 averaged_sigma3_20 0.37517143899\n",
      "0.03074652315335696 averaged_sigma2_3 averaged_sigma3_23 0.282195297709\n",
      "0.02333191227523354 averaged_sigma2_4 averaged_sigma2_13 0.6162182425\n",
      "0.03349483120423716 averaged_sigma2_4 averaged_sigma2_17 0.308315113671\n",
      "0.016593748684404587 averaged_sigma2_4 averaged_sigma2_29 0.695110915476\n",
      "0.022928817850496386 averaged_sigma2_4 averaged_sigma3_20 0.563568767553\n",
      "0.02229897828875688 averaged_sigma2_4 averaged_sigma3_23 0.66894628178\n",
      "0.03890931169070595 averaged_sigma2_13 averaged_sigma2_17 0.292657333539\n",
      "0.017739520387833253 averaged_sigma2_13 averaged_sigma2_29 0.654713021199\n",
      "0.022462166773932514 averaged_sigma2_13 averaged_sigma3_20 0.620804432543\n",
      "0.02726104564953211 averaged_sigma2_13 averaged_sigma3_23 0.599360520889\n",
      "0.035402194511620313 averaged_sigma2_17 averaged_sigma2_29 0.317169532184\n",
      "0.031440596077641235 averaged_sigma2_17 averaged_sigma3_20 0.346277687221\n"
     ]
    },
    {
     "name": "stderr",
     "output_type": "stream",
     "text": [
      "\r",
      "0it [00:00, ?it/s]"
     ]
    },
    {
     "name": "stdout",
     "output_type": "stream",
     "text": [
      "0.036244391585978364 averaged_sigma2_17 averaged_sigma3_23 0.249612794738\n",
      "0.019903374814897314 averaged_sigma2_29 averaged_sigma3_20 0.616982472114\n",
      "0.02201957147376653 averaged_sigma2_29 averaged_sigma3_23 0.620833760949\n",
      "0.024150893958825057 averaged_sigma3_20 averaged_sigma3_23 0.531402215228\n"
     ]
    },
    {
     "name": "stderr",
     "output_type": "stream",
     "text": [
      "66it [00:00, 2094.03it/s]\n"
     ]
    },
    {
     "name": "stdout",
     "output_type": "stream",
     "text": [
      "averaged_sigma0_18 (0, 1, 10, 2, 0, 0, 0, 0, 0, 0)\n",
      "averaged_sigma0_21 (0, 1, 10, 2, 0, 0, 0, 0, 0, 0)\n",
      "averaged_sigma1_19 (0, 1, 10, 2, 0, 0, 0, 0, 0, 0)\n",
      "averaged_sigma2_3 (0, 2, 8, 3, 0, 0, 0, 0, 0, 0)\n",
      "averaged_sigma2_4 (0, 1, 10, 2, 0, 0, 0, 0, 0, 0)\n",
      "averaged_sigma2_13 (0, 1, 10, 2, 0, 0, 0, 0, 0, 0)\n",
      "averaged_sigma2_17 (0, 3, 6, 4, 0, 0, 0, 0, 0, 0)\n",
      "averaged_sigma2_29 (0, 1, 10, 2, 0, 0, 0, 0, 0, 0)\n",
      "averaged_sigma3_20 (0, 1, 10, 2, 0, 0, 0, 0, 0, 0)\n",
      "averaged_sigma3_23 (0, 1, 10, 2, 0, 0, 0, 0, 0, 0)\n",
      "0.020983383160148427 averaged_sigma0_18 averaged_sigma0_21 0.684043641526\n",
      "0.019776117033628797 averaged_sigma0_18 averaged_sigma1_19 0.686791845737\n",
      "0.029577170505065118 averaged_sigma0_18 averaged_sigma2_3 0.32625098259\n",
      "0.015404679294412459 averaged_sigma0_18 averaged_sigma2_4 0.727421853412\n",
      "0.023378934874859723 averaged_sigma0_18 averaged_sigma2_13 0.642919558885\n",
      "0.038132305347054786 averaged_sigma0_18 averaged_sigma2_17 0.286412225907\n",
      "0.019262605265814286 averaged_sigma0_18 averaged_sigma2_29 0.680469403577\n",
      "0.024841612309319548 averaged_sigma0_18 averaged_sigma3_20 0.555350718022\n",
      "0.02279506374126192 averaged_sigma0_18 averaged_sigma3_23 0.641535475754\n",
      "0.019945462594081583 averaged_sigma0_21 averaged_sigma1_19 0.676394041329\n",
      "0.03800884909206471 averaged_sigma0_21 averaged_sigma2_3 0.274800181627\n",
      "0.020970045809480958 averaged_sigma0_21 averaged_sigma2_4 0.67606450269\n",
      "0.01824377855437611 averaged_sigma0_21 averaged_sigma2_13 0.675878786484\n",
      "0.03584493805631619 averaged_sigma0_21 averaged_sigma2_17 0.296663675839\n",
      "0.02101239399846893 averaged_sigma0_21 averaged_sigma2_29 0.644742962063\n",
      "0.027549458099013574 averaged_sigma0_21 averaged_sigma3_20 0.573243023348\n",
      "0.01926710998727877 averaged_sigma0_21 averaged_sigma3_23 0.691097304602\n",
      "0.033243800504932135 averaged_sigma1_19 averaged_sigma2_3 0.277300206159\n",
      "0.01552430437925125 averaged_sigma1_19 averaged_sigma2_4 0.709442672962\n",
      "0.018302502242132795 averaged_sigma1_19 averaged_sigma2_13 0.668525954569\n",
      "0.03630864114345149 averaged_sigma1_19 averaged_sigma2_17 0.299716106051\n",
      "0.004363551453348003 averaged_sigma1_19 averaged_sigma2_29 0.91483937914\n",
      "0.01961255317804726 averaged_sigma1_19 averaged_sigma3_20 0.617889293797\n",
      "0.021623352579729464 averaged_sigma1_19 averaged_sigma3_23 0.644908561845\n",
      "0.030612096111120816 averaged_sigma2_3 averaged_sigma2_4 0.305610120528\n",
      "0.03255684744378098 averaged_sigma2_3 averaged_sigma2_13 0.357025259752\n",
      "0.0416545984961618 averaged_sigma2_3 averaged_sigma2_17 0.274175528439\n",
      "0.03290696858242176 averaged_sigma2_3 averaged_sigma2_29 0.299504505702\n",
      "0.031181485106776964 averaged_sigma2_3 averaged_sigma3_20 0.37517143899\n",
      "0.03074652315335696 averaged_sigma2_3 averaged_sigma3_23 0.282195297709\n",
      "0.02333191227523354 averaged_sigma2_4 averaged_sigma2_13 0.6162182425\n",
      "0.03349483120423716 averaged_sigma2_4 averaged_sigma2_17 0.308315113671\n",
      "0.016593748684404587 averaged_sigma2_4 averaged_sigma2_29 0.695110915476\n",
      "0.022928817850496386 averaged_sigma2_4 averaged_sigma3_20 0.563568767553\n",
      "0.02229897828875688 averaged_sigma2_4 averaged_sigma3_23 0.66894628178\n",
      "0.03890931169070595 averaged_sigma2_13 averaged_sigma2_17 0.292657333539\n",
      "0.017739520387833253 averaged_sigma2_13 averaged_sigma2_29 0.654713021199\n",
      "0.022462166773932514 averaged_sigma2_13 averaged_sigma3_20 0.620804432543\n",
      "0.02726104564953211 averaged_sigma2_13 averaged_sigma3_23 0.599360520889\n",
      "0.035402194511620313 averaged_sigma2_17 averaged_sigma2_29 0.317169532184\n",
      "0.031440596077641235 averaged_sigma2_17 averaged_sigma3_20 0.346277687221\n",
      "0.036244391585978364 averaged_sigma2_17 averaged_sigma3_23 0.249612794738\n",
      "0.019903374814897314 averaged_sigma2_29 averaged_sigma3_20 0.616982472114\n",
      "0.02201957147376653 averaged_sigma2_29 averaged_sigma3_23 0.620833760949\n",
      "0.024150893958825057 averaged_sigma3_20 averaged_sigma3_23 0.531402215228\n"
     ]
    },
    {
     "data": {
      "image/png": "[encoded data removed]",
      "text/plain": [
       "<matplotlib.figure.Figure at 0x7fba12e3d2e8>"
      ]
     },
     "metadata": {},
     "output_type": "display_data"
    },
    {
     "name": "stdout",
     "output_type": "stream",
     "text": [
      "Final results for CN=13\n",
      "averaged_sigma0_18 (0, 1, 10, 2, 0, 0, 0, 0, 0, 0)\n",
      "averaged_sigma0_21 (0, 1, 10, 2, 0, 0, 0, 0, 0, 0)\n",
      "averaged_sigma2_3 (0, 2, 8, 3, 0, 0, 0, 0, 0, 0)\n",
      "averaged_sigma2_4 (0, 1, 10, 2, 0, 0, 0, 0, 0, 0)\n",
      "averaged_sigma2_13 (0, 1, 10, 2, 0, 0, 0, 0, 0, 0)\n",
      "averaged_sigma2_17 (0, 3, 6, 4, 0, 0, 0, 0, 0, 0)\n",
      "averaged_sigma2_29 (0, 1, 10, 2, 0, 0, 0, 0, 0, 0)\n",
      "averaged_sigma3_20 (0, 1, 10, 2, 0, 0, 0, 0, 0, 0)\n",
      "averaged_sigma3_23 (0, 1, 10, 2, 0, 0, 0, 0, 0, 0)\n",
      "\n",
      "Identifying basis set for CN 14:\n",
      "13\n"
     ]
    },
    {
     "name": "stderr",
     "output_type": "stream",
     "text": [
      "21it [00:00, 4433.28it/s]"
     ]
    },
    {
     "name": "stdout",
     "output_type": "stream",
     "text": [
      "After removing identical motifs:\n",
      "7\n",
      "7\n",
      "averaged_sigma2_1 (0, 1, 10, 3, 0, 0, 0, 0, 0, 0)\n",
      "averaged_sigma2_31 (0, 0, 12, 2, 0, 0, 0, 0, 0, 0)\n",
      "0.025034477194727314 averaged_sigma2_1 averaged_sigma2_31 0.650674662187\n"
     ]
    },
    {
     "name": "stderr",
     "output_type": "stream",
     "text": [
      "\n",
      "35it [00:00, 3915.31it/s]\n"
     ]
    },
    {
     "name": "stdout",
     "output_type": "stream",
     "text": [
      "averaged_sigma2_1 (0, 1, 10, 3, 0, 0, 0, 0, 0, 0)\n",
      "averaged_sigma2_31 (0, 0, 12, 2, 0, 0, 0, 0, 0, 0)\n",
      "averaged_sigma3_0 (0, 2, 8, 4, 0, 0, 0, 0, 0, 0)\n",
      "0.025034477194727314 averaged_sigma2_1 averaged_sigma2_31 0.650674662187\n",
      "0.025835403756017096 averaged_sigma2_1 averaged_sigma3_0 0.509821882458\n"
     ]
    },
    {
     "name": "stderr",
     "output_type": "stream",
     "text": [
      "35it [00:00, 2403.14it/s]"
     ]
    },
    {
     "name": "stdout",
     "output_type": "stream",
     "text": [
      "0.03278181655966516 averaged_sigma2_31 averaged_sigma3_0 0.448815452132\n",
      "averaged_sigma1_13 (0, 0, 12, 2, 0, 0, 0, 0, 0, 0)\n",
      "averaged_sigma1_20 (0, 1, 10, 3, 0, 0, 0, 0, 0, 0)\n",
      "averaged_sigma2_1 (0, 1, 10, 3, 0, 0, 0, 0, 0, 0)\n",
      "averaged_sigma3_0 (0, 2, 8, 4, 0, 0, 0, 0, 0, 0)\n",
      "0.027087242900943165 averaged_sigma1_13 averaged_sigma1_20 0.550071164117\n"
     ]
    },
    {
     "name": "stderr",
     "output_type": "stream",
     "text": [
      "\n"
     ]
    },
    {
     "name": "stdout",
     "output_type": "stream",
     "text": [
      "0.02230869541486733 averaged_sigma1_13 averaged_sigma2_1 0.668544978344\n",
      "0.025052070810213 averaged_sigma1_13 averaged_sigma3_0 0.548424890238\n",
      "0.021247046443087905 "
     ]
    },
    {
     "name": "stderr",
     "output_type": "stream",
     "text": [
      "\r",
      "0it [00:00, ?it/s]"
     ]
    },
    {
     "name": "stdout",
     "output_type": "stream",
     "text": [
      "averaged_sigma1_20 averaged_sigma2_1 0.684950699116\n",
      "0.031196915214958557 averaged_sigma1_20 averaged_sigma3_0 0.474403283175\n",
      "0.025835403756017096 averaged_sigma2_1 averaged_sigma3_0 0.509821882458\n"
     ]
    },
    {
     "name": "stderr",
     "output_type": "stream",
     "text": [
      "21it [00:00, 2230.11it/s]\n"
     ]
    },
    {
     "name": "stdout",
     "output_type": "stream",
     "text": [
      "averaged_sigma1_13 (0, 0, 12, 2, 0, 0, 0, 0, 0, 0)\n",
      "averaged_sigma1_20 (0, 1, 10, 3, 0, 0, 0, 0, 0, 0)\n",
      "averaged_sigma2_1 (0, 1, 10, 3, 0, 0, 0, 0, 0, 0)\n",
      "averaged_sigma2_31 (0, 0, 12, 2, 0, 0, 0, 0, 0, 0)\n",
      "averaged_sigma3_0 (0, 2, 8, 4, 0, 0, 0, 0, 0, 0)\n",
      "0.027087242900943165 averaged_sigma1_13 averaged_sigma1_20 0.550071164117\n",
      "0.02230869541486733 averaged_sigma1_13 averaged_sigma2_1 0.668544978344\n",
      "0.02024822958728601 averaged_sigma1_13 averaged_sigma2_31 0.653505880256\n",
      "0.025052070810213 averaged_sigma1_13 averaged_sigma3_0 0.548424890238\n",
      "0.021247046443087905 averaged_sigma1_20 averaged_sigma2_1 0.684950699116\n",
      "0.019615195610135354 averaged_sigma1_20 averaged_sigma2_31 0.661391695655\n",
      "0.031196915214958557 averaged_sigma1_20 averaged_sigma3_0 0.474403283175\n",
      "0.025034477194727314 averaged_sigma2_1 averaged_sigma2_31 0.650674662187\n"
     ]
    },
    {
     "name": "stderr",
     "output_type": "stream",
     "text": [
      "7it [00:00, 2630.13it/s]"
     ]
    },
    {
     "name": "stdout",
     "output_type": "stream",
     "text": [
      "0.025835403756017096 averaged_sigma2_1 averaged_sigma3_0 0.509821882458\n",
      "0.03278181655966516 averaged_sigma2_31 averaged_sigma3_0 0.448815452132\n",
      "averaged_sigma1_13 (0, 0, 12, 2, 0, 0, 0, 0, 0, 0)\n",
      "averaged_sigma1_20 (0, 1, 10, 3, 0, 0, 0, 0, 0, 0)\n",
      "averaged_sigma2_1 (0, 1, 10, 3, 0, 0, 0, 0, 0, 0)\n",
      "averaged_sigma2_31 (0, 0, 12, 2, 0, 0, 0, 0, 0, 0)\n",
      "averaged_sigma3_0 (0, 2, 8, 4, 0, 0, 0, 0, 0, 0)\n",
      "averaged_sigma3_15 (0, 1, 10, 3, 0, 0, 0, 0, 0, 0)\n",
      "0.027087242900943165 averaged_sigma1_13 averaged_sigma1_20 0.550071164117\n"
     ]
    },
    {
     "name": "stderr",
     "output_type": "stream",
     "text": [
      "\n"
     ]
    },
    {
     "name": "stdout",
     "output_type": "stream",
     "text": [
      "0.02230869541486733 averaged_sigma1_13 averaged_sigma2_1 0.668544978344\n",
      "0.02024822958728601 averaged_sigma1_13 averaged_sigma2_31 0.653505880256\n",
      "0.025052070810213 averaged_sigma1_13 averaged_sigma3_0 0.548424890238\n",
      "0.019486736273175116 averaged_sigma1_13 averaged_sigma3_15 0.727567769168\n",
      "0.021247046443087905 averaged_sigma1_20 averaged_sigma2_1 0.684950699116\n",
      "0.019615195610135354 averaged_sigma1_20 averaged_sigma2_31 0.661391695655\n",
      "0.031196915214958557 averaged_sigma1_20 averaged_sigma3_0 0.474403283175\n",
      "0.02406048619755219 averaged_sigma1_20 averaged_sigma3_15 0.626855104191\n",
      "0.025034477194727314 averaged_sigma2_1 averaged_sigma2_31 0.650674662187\n",
      "0.025835403756017096 averaged_sigma2_1 averaged_sigma3_0 0.509821882458\n",
      "0.007211493317302391 averaged_sigma2_1 averaged_sigma3_15 0.871351649953\n",
      "0.03278181655966516 averaged_sigma2_31 averaged_sigma3_0 0.448815452132\n",
      "0.023634024666944742 averaged_sigma2_31 averaged_sigma3_15 0.624266576233\n",
      "0.026178732483643094 averaged_sigma3_0 averaged_sigma3_15 0.544303475491\n"
     ]
    },
    {
     "data": {
      "image/png": "[encoded data removed]",
      "text/plain": [
       "<matplotlib.figure.Figure at 0x7fba0b2c3a20>"
      ]
     },
     "metadata": {},
     "output_type": "display_data"
    },
    {
     "name": "stdout",
     "output_type": "stream",
     "text": [
      "Final results for CN=14\n",
      "averaged_sigma1_13 (0, 0, 12, 2, 0, 0, 0, 0, 0, 0)\n",
      "averaged_sigma1_20 (0, 1, 10, 3, 0, 0, 0, 0, 0, 0)\n",
      "averaged_sigma2_1 (0, 1, 10, 3, 0, 0, 0, 0, 0, 0)\n",
      "averaged_sigma2_31 (0, 0, 12, 2, 0, 0, 0, 0, 0, 0)\n",
      "averaged_sigma3_0 (0, 2, 8, 4, 0, 0, 0, 0, 0, 0)\n",
      "\n",
      "Identifying basis set for CN 15:\n",
      "10\n"
     ]
    },
    {
     "name": "stderr",
     "output_type": "stream",
     "text": [
      "28it [00:00, 5455.24it/s]"
     ]
    },
    {
     "name": "stdout",
     "output_type": "stream",
     "text": [
      "After removing identical motifs:\n",
      "8\n",
      "8\n",
      "averaged_sigma0_25 (0, 1, 10, 4, 0, 0, 0, 0, 0, 0)\n",
      "averaged_sigma2_26 (0, 1, 10, 4, 0, 0, 0, 0, 0, 0)\n",
      "0.009904940000607439 averaged_sigma0_25 averaged_sigma2_26 0.897397512297\n"
     ]
    },
    {
     "name": "stderr",
     "output_type": "stream",
     "text": [
      "\n"
     ]
    },
    {
     "data": {
      "image/png": "[encoded data removed]",
      "text/plain": [
       "<matplotlib.figure.Figure at 0x7fba12e0ae48>"
      ]
     },
     "metadata": {},
     "output_type": "display_data"
    },
    {
     "name": "stdout",
     "output_type": "stream",
     "text": [
      "Final results for CN=15\n",
      "averaged_sigma0_25 (0, 1, 10, 4, 0, 0, 0, 0, 0, 0)\n",
      "\n"
     ]
    }
   ],
   "source": [
    "CN = 9\n",
    "cnmin = np.amin([motif.CN for motif in motifs])\n",
    "cnmax = np.amax([motif.CN for motif in motifs])\n",
    "for CN in range(cnmin, cnmax+1):\n",
    "    print(f\"Identifying basis set for CN {CN}:\")\n",
    "    motifs_cn = [motif for motif in motifs if motif.CN == CN]\n",
    "    print(len(motifs_cn))\n",
    "\n",
    "    # Remove identical\n",
    "    motif_cn_errors = load_errors(motifs_cn)\n",
    "    for m, e in zip(motifs_cn, motif_cn_errors):\n",
    "        m.errors = e\n",
    "    motifs_cn = remove_identical(motifs_cn, CN=CN)\n",
    "    motif_cn_errors = load_errors(motifs_cn)\n",
    "    print(\"After removing identical motifs:\")\n",
    "    print(len(motifs_cn))\n",
    "    #print(len(motif_cn_errors))\n",
    "\n",
    "    motif_cn_errors = load_errors(motifs_cn)\n",
    "    basis = find_basis(motifs_cn, motif_cn_errors, cluster_cns)\n",
    "\n",
    "    print(f\"Final results for CN={CN}\")\n",
    "    for motif in basis:\n",
    "        print(motif.filename.stem, motif.vp_index)\n",
    "    print()"
   ]
  },
  {
   "cell_type": "code",
   "execution_count": 46,
   "metadata": {},
   "outputs": [
    {
     "name": "stdout",
     "output_type": "stream",
     "text": [
      "/home/jjmaldonis/backup/alignment_work/Zr50Cu45Al5_md_alignment/20180417_ppm3d_correct_rerun/600K/ppm3d_correct/analysis/motif_analysis\r\n"
     ]
    }
   ],
   "source": [
    "!pwd"
   ]
  },
  {
   "cell_type": "code",
   "execution_count": null,
   "metadata": {
    "collapsed": true
   },
   "outputs": [],
   "source": []
  }
 ],
 "metadata": {
  "kernelspec": {
   "display_name": "Python 3",
   "language": "python",
   "name": "python3"
  },
  "language_info": {
   "codemirror_mode": {
    "name": "ipython",
    "version": 3
   },
   "file_extension": ".py",
   "mimetype": "text/x-python",
   "name": "python",
   "nbconvert_exporter": "python",
   "pygments_lexer": "ipython3",
   "version": "3.6.2"
  }
 },
 "nbformat": 4,
 "nbformat_minor": 2
}
