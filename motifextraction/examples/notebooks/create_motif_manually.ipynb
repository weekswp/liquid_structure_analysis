{
 "cells": [
  {
   "cell_type": "code",
   "execution_count": null,
   "metadata": {},
   "outputs": [],
   "source": [
    "!pwd\n",
    "%matplotlib inline\n",
    "import matplotlib\n",
    "import matplotlib.pyplot as plt\n",
    "\n",
    "import sys\n",
    "import itertools\n",
    "from collections import Counter, defaultdict\n",
    "import numpy as np\n",
    "import scipy.stats, scipy.spatial, scipy.signal\n",
    "import os\n",
    "import json\n",
    "from path import Path; Path.stem = Path.namebase\n",
    "from natsort import natsorted\n",
    "\n",
    "from ppm3d import Cluster, align, AlignedData\n",
    "from motifextraction import load_cns\n",
    "from motifextraction.utils import get_norm_factors"
   ]
  },
  {
   "cell_type": "code",
   "execution_count": 2,
   "metadata": {
    "collapsed": true
   },
   "outputs": [],
   "source": [
    "# Set up some paths to load data from\n",
    "# The motifs I used here were just to do some basic testing.\n",
    "\n",
    "temperature_path = Path(\"../\")\n",
    "T = 0\n",
    "data_path = temperature_path / f\"{T}\" / Path(\"metallic_glass/data\")\n",
    "cluster_path = data_path / \"clusters\"\n",
    "motif_path = Path(\"../motifextraction/examples/motifextraction/metallic_glass/data/averaged/\")\n",
    "motif_errors_path = data_path / \"motif_errors\""
   ]
  },
  {
   "cell_type": "code",
   "execution_count": 4,
   "metadata": {},
   "outputs": [
    {
     "name": "stdout",
     "output_type": "stream",
     "text": [
      "Loading cns...\n",
      "9826\n"
     ]
    }
   ],
   "source": [
    "cluster_cns = load_cns(cluster_path).astype(int)\n",
    "NCLUSTERS = len(cluster_cns)\n",
    "print(NCLUSTERS)"
   ]
  },
  {
   "cell_type": "code",
   "execution_count": 16,
   "metadata": {},
   "outputs": [],
   "source": [
    "# Load norm factors so we can correctly normalize the motif errors.\n",
    "# The norm factors are calculated using the all-to-all alignments.\n",
    "with open(motif_path / \"../norm_factors.json\") as f:\n",
    "    _norm_factors = json.load(f)\n",
    "    L2_norm_factors = _norm_factors[\"L2\"]\n",
    "    L1_norm_factors = _norm_factors[\"L1\"]\n",
    "    Linf_norm_factors = _norm_factors[\"Linf\"]\n",
    "    angular_norm_factors = _norm_factors[\"angular\"]"
   ]
  },
  {
   "cell_type": "code",
   "execution_count": 20,
   "metadata": {
    "collapsed": true
   },
   "outputs": [],
   "source": [
    "def calculate_gmean(errors):\n",
    "    errors[:, 0][np.where(errors[:, 0] > L2_norm_factors['set_to_inf_before_dividing'])] = np.inf\n",
    "    errors[:, 0][np.isinf(errors[:, 0])] = np.nan\n",
    "    errors[:, 0] /= L2_norm_factors['divide_by']\n",
    "    errors[:, 1][np.where(errors[:, 1] > L1_norm_factors['set_to_inf_before_dividing'])] = np.inf\n",
    "    errors[:, 1][np.isinf(errors[:, 1])] = np.nan\n",
    "    errors[:, 1] /= L1_norm_factors['divide_by']\n",
    "    errors[:, 2][np.where(errors[:, 2] > Linf_norm_factors['set_to_inf_before_dividing'])] = np.inf\n",
    "    errors[:, 2][np.isinf(errors[:, 2])] = np.nan\n",
    "    errors[:, 2] /= Linf_norm_factors['divide_by']\n",
    "    errors[:, 3][np.where(errors[:, 3] > angular_norm_factors['set_to_inf_before_dividing'])] = np.inf\n",
    "    errors[:, 3][np.isinf(errors[:, 3])] = np.nan\n",
    "    errors[:, 3] /= angular_norm_factors['divide_by']\n",
    "    errors = scipy.stats.gmean(errors, axis=1)\n",
    "    return errors"
   ]
  },
  {
   "cell_type": "code",
   "execution_count": 18,
   "metadata": {},
   "outputs": [
    {
     "name": "stdout",
     "output_type": "stream",
     "text": [
      "110\n",
      "110\n"
     ]
    }
   ],
   "source": [
    "# Create a motif from the CN 16 clusters.\n",
    "# There were not many of these so motif extraction did not identify a motif with CN 16.\n",
    "# We make the assumption that all the clusters with CN 16 have the same prototypical structure.\n",
    "\n",
    "cluster_indices_CN16 = np.where(cluster_cns == 16)[0]\n",
    "print(len(cluster_indices_CN16))\n",
    "\n",
    "errors_CN16 = []\n",
    "for i in cluster_indices_CN16:\n",
    "    try:\n",
    "        errors_CN16.append(\n",
    "            np.load(f\"../motifextraction/examples/motifextraction/metallic_glass/data/errors/{i}_errors.npy\")\n",
    "        )\n",
    "    except FileNotFoundError:\n",
    "        errors_CN16.append(None)\n",
    "print(len(errors_CN16))"
   ]
  },
  {
   "cell_type": "code",
   "execution_count": 26,
   "metadata": {},
   "outputs": [
    {
     "name": "stdout",
     "output_type": "stream",
     "text": [
      "2214\n"
     ]
    },
    {
     "name": "stderr",
     "output_type": "stream",
     "text": [
      "/home/group/anaconda2/envs/py3/lib/python3.6/site-packages/scipy/stats/stats.py:314: RuntimeWarning: divide by zero encountered in log\n",
      "  log_a = np.log(a)\n"
     ]
    }
   ],
   "source": [
    "# Find the cluster that is most similar to all the other clusters with CN 16\n",
    "best = (np.inf, None)\n",
    "for i, errors in enumerate(errors_CN16):\n",
    "    if errors is None:\n",
    "        continue\n",
    "    errors = errors[cluster_indices_CN16]\n",
    "    errors = calculate_gmean(errors)\n",
    "    m = np.nanmean(errors)\n",
    "    if m < best[0]:\n",
    "        best = (m, cluster_indices_CN16[i])\n",
    "print(best[1])"
   ]
  },
  {
   "cell_type": "code",
   "execution_count": 31,
   "metadata": {},
   "outputs": [],
   "source": [
    "cluster = Cluster(filename=cluster_path / \"2214.xyz\")\n",
    "atom_positions = []\n",
    "for c in cluster_indices_CN16:\n",
    "    c = Cluster(filename=cluster_path / f\"{c}.xyz\")\n",
    "    data = AlignedData.from_mapping(align(c.filename, cluster.filename))\n",
    "    if data.successful:\n",
    "        atom_positions.append(np.array(data.aligned_model.positions))\n",
    "atom_positions = np.array(atom_positions)"
   ]
  },
  {
   "cell_type": "code",
   "execution_count": 32,
   "metadata": {},
   "outputs": [
    {
     "name": "stdout",
     "output_type": "stream",
     "text": [
      "(103, 17, 3)\n",
      "(17, 3)\n"
     ]
    }
   ],
   "source": [
    "print(atom_positions.shape)\n",
    "atom_positions = np.mean(atom_positions, axis=0)\n",
    "print(atom_positions.shape)"
   ]
  },
  {
   "cell_type": "code",
   "execution_count": 46,
   "metadata": {
    "collapsed": true
   },
   "outputs": [],
   "source": [
    "with open(\"CN_16_averaged_manually.xyz\", 'w') as f:\n",
    "    f.write(f\"{len(atom_positions)}\\n\")\n",
    "    f.write(f\"comment\\n\")\n",
    "    for p in atom_positions:\n",
    "        f.write(f\"Si {p[0]} {p[1]} {p[2]}\\n\")"
   ]
  },
  {
   "cell_type": "code",
   "execution_count": 47,
   "metadata": {},
   "outputs": [
    {
     "name": "stdout",
     "output_type": "stream",
     "text": [
      "16\n",
      "(0, 1, 10, 5, 0, 0, 0, 0, 0, 0)\n"
     ]
    }
   ],
   "source": [
    "c = Cluster(filename=\"./CN_16_averaged_manually.xyz\")\n",
    "print(c.CN)\n",
    "print(c.vp_index)"
   ]
  },
  {
   "cell_type": "code",
   "execution_count": null,
   "metadata": {
    "collapsed": true
   },
   "outputs": [],
   "source": []
  }
 ],
 "metadata": {
  "kernelspec": {
   "display_name": "Python 3",
   "language": "python",
   "name": "python3"
  },
  "language_info": {
   "codemirror_mode": {
    "name": "ipython",
    "version": 3
   },
   "file_extension": ".py",
   "mimetype": "text/x-python",
   "name": "python",
   "nbconvert_exporter": "python",
   "pygments_lexer": "ipython3",
   "version": "3.6.2"
  }
 },
 "nbformat": 4,
 "nbformat_minor": 2
}
