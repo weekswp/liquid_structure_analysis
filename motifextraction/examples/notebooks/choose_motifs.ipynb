{
 "cells": [
  {
   "cell_type": "code",
   "execution_count": null,
   "metadata": {
    "collapsed": true
   },
   "outputs": [],
   "source": [
    "!pwd\n",
    "%matplotlib inline\n",
    "import matplotlib\n",
    "import matplotlib.pyplot as plt\n",
    "\n",
    "import sys\n",
    "import itertools\n",
    "from collections import Counter, defaultdict\n",
    "import numpy as np\n",
    "import scipy.stats, scipy.spatial, scipy.signal\n",
    "import os\n",
    "import json\n",
    "from path import Path; Path.stem = Path.namebase\n",
    "from natsort import natsorted\n",
    "\n",
    "from ppm3d import Cluster, align, AlignedData\n",
    "from motifextraction import load_cns\n",
    "from motifextraction.utils import get_norm_factors, FractionalCounter"
   ]
  },
  {
   "cell_type": "code",
   "execution_count": 2,
   "metadata": {
    "collapsed": true
   },
   "outputs": [],
   "source": [
    "# Set up some paths to load data from\n",
    "# The motifs I used here were just to do some basic testing.\n",
    "\n",
    "data_path = Path(\".../motifextraction/examples/motifextraction/metallic_glass/data\")\n",
    "cluster_path = data_path / \"clusters\"\n",
    "motif_path = data_path / \"averaged\"\n",
    "motif_errors_path = data_path / \"motif_errors\"\n",
    "errors_path = data_path / \"errors\""
   ]
  },
  {
   "cell_type": "code",
   "execution_count": 3,
   "metadata": {},
   "outputs": [
    {
     "name": "stdout",
     "output_type": "stream",
     "text": [
      "Loading cns...\n",
      "9826\n",
      "Counter({15: 2293, 14: 2030, 11: 1534, 10: 1202, 13: 854, 12: 821, 16: 768, 9: 216, 17: 99, 8: 8, 18: 1})\n"
     ]
    }
   ],
   "source": [
    "# Load the CNs of the clusters and set the total number of clusters\n",
    "cluster_cns = load_cns(cluster_path).astype(int)\n",
    "NCLUSTERS = len(cluster_cns)\n",
    "print(NCLUSTERS)\n",
    "print(Counter(cluster_cns))"
   ]
  },
  {
   "cell_type": "code",
   "execution_count": 4,
   "metadata": {},
   "outputs": [
    {
     "name": "stdout",
     "output_type": "stream",
     "text": [
      "17\n"
     ]
    }
   ],
   "source": [
    "motif_fns = natsorted(motif_path.glob(\"*.xyz\"))\n",
    "motif_fns = [f for f in motif_fns if not f.stem.startswith(\"ignore\")]\n",
    "NMOTIFS = len(motif_fns)\n",
    "print(NMOTIFS)"
   ]
  },
  {
   "cell_type": "code",
   "execution_count": 5,
   "metadata": {
    "collapsed": true
   },
   "outputs": [],
   "source": [
    "motifs = [Cluster(filename=fn) for fn in motif_fns]"
   ]
  },
  {
   "cell_type": "code",
   "execution_count": 6,
   "metadata": {},
   "outputs": [
    {
     "name": "stdout",
     "output_type": "stream",
     "text": [
      "9 averaged_13 (0, 3, 6, 0)\n",
      "9 averaged_1600K_CN9_manual (0, 3, 6, 0)\n",
      "10 averaged_7 (0, 2, 8, 0)\n",
      "10 averaged_1600K_CN10_manual (0, 3, 6, 1)\n",
      "11 averaged_12 (0, 2, 8, 1)\n",
      "12 Z12_FK (0, 0, 12, 0)\n",
      "12 averaged_1 (0, 2, 8, 2)\n",
      "12 averaged_8 (0, 3, 6, 3)\n",
      "12 averaged_11 (0, 3, 6, 3)\n",
      "13 averaged_0 (0, 1, 10, 2)\n",
      "14 averaged_6 (0, 0, 12, 2)\n",
      "14 averaged_9 (0, 1, 10, 3)\n",
      "14 averaged_14 (0, 2, 8, 4)\n",
      "14 averaged_15 (0, 0, 12, 2)\n",
      "15 averaged_3 (0, 1, 10, 4)\n",
      "15 averaged_16 (0, 0, 12, 3)\n",
      "16 averaged_2 (0, 0, 12, 4)\n"
     ]
    }
   ],
   "source": [
    "motif_cns = np.array([motif.CN for motif in motifs])\n",
    "motifs_by_cn = defaultdict(list)\n",
    "for motif in motifs:\n",
    "    motifs_by_cn[motif.CN].append(motif)\n",
    "\n",
    "for cn in sorted(Counter(motif_cns).keys()):\n",
    "    for motif in motifs_by_cn[cn]:\n",
    "        print(cn, motif.filename.stem, motif.vp_index[:4])"
   ]
  },
  {
   "cell_type": "code",
   "execution_count": 7,
   "metadata": {
    "collapsed": true
   },
   "outputs": [],
   "source": [
    "# Load norm factors so we can correctly normalize the motif errors.\n",
    "# The norm factors are calculated using the all-to-all alignments.\n",
    "with open(data_path / \"norm_factors.json\") as f:\n",
    "    _norm_factors = json.load(f)\n",
    "    L2_norm_factors = _norm_factors[\"L2\"]\n",
    "    L1_norm_factors = _norm_factors[\"L1\"]\n",
    "    Linf_norm_factors = _norm_factors[\"Linf\"]\n",
    "    angular_norm_factors = _norm_factors[\"angular\"]"
   ]
  },
  {
   "cell_type": "code",
   "execution_count": 8,
   "metadata": {},
   "outputs": [
    {
     "name": "stdout",
     "output_type": "stream",
     "text": [
      "(17, 9826)\n"
     ]
    }
   ],
   "source": [
    "# Load motif errors\n",
    "motif_errors = np.zeros((NMOTIFS, NCLUSTERS, 4))\n",
    "motif_errors.fill(np.nan)\n",
    "for i, fn in enumerate(motif_fns):\n",
    "    stem = '_'.join(fn.namebase.split('_')[:])\n",
    "    efn = motif_errors_path / (stem + '_errors.npy')\n",
    "    motif_errors[i, :, :] = np.load(efn)\n",
    "\n",
    "motif_errors[:, :, 0]\n",
    "motif_errors[:, :, 0][np.where(motif_errors[:, :, 0] > L2_norm_factors['set_to_inf_before_dividing'])] = np.inf\n",
    "motif_errors[:, :, 0][np.isinf(motif_errors[:, :, 0])] = np.nan\n",
    "motif_errors[:, :, 0] /= L2_norm_factors['divide_by']\n",
    "\n",
    "motif_errors[:, :, 1]\n",
    "motif_errors[:, :, 1][np.where(motif_errors[:, :, 1] > L1_norm_factors['set_to_inf_before_dividing'])] = np.inf\n",
    "motif_errors[:, :, 1][np.isinf(motif_errors[:, :, 1])] = np.nan\n",
    "motif_errors[:, :, 1] /= L1_norm_factors['divide_by']\n",
    "\n",
    "motif_errors[:, :, 2]\n",
    "motif_errors[:, :, 2][np.where(motif_errors[:, :, 2] > Linf_norm_factors['set_to_inf_before_dividing'])] = np.inf\n",
    "motif_errors[:, :, 2][np.isinf(motif_errors[:, :, 2])] = np.nan\n",
    "motif_errors[:, :, 2] /= Linf_norm_factors['divide_by']\n",
    "\n",
    "motif_errors[:, :, 3]\n",
    "motif_errors[:, :, 3][np.where(motif_errors[:, :, 3] > angular_norm_factors['set_to_inf_before_dividing'])] = np.inf\n",
    "motif_errors[:, :, 3][np.isinf(motif_errors[:, :, 3])] = np.nan\n",
    "motif_errors[:, :, 3] /= angular_norm_factors['divide_by']\n",
    "\n",
    "motif_errors = scipy.stats.gmean(motif_errors, axis=2)\n",
    "print(motif_errors.shape)  # Will have shape (NMOTIFS, NCLUSTERS)\n",
    "\n",
    "for i, motif in enumerate(motifs):\n",
    "    motif.errors = motif_errors[i, :]"
   ]
  },
  {
   "cell_type": "code",
   "execution_count": 9,
   "metadata": {},
   "outputs": [
    {
     "data": {
      "image/png": "[encoded data removed]",
      "text/plain": [
       "<Figure size 432x288 with 1 Axes>"
      ]
     },
     "metadata": {},
     "output_type": "display_data"
    },
    {
     "data": {
      "image/png": "[encoded data removed]",
      "text/plain": [
       "<Figure size 432x288 with 1 Axes>"
      ]
     },
     "metadata": {},
     "output_type": "display_data"
    }
   ],
   "source": [
    "# Fit the distribution of motif errors to a normal distribution using scipy.\n",
    "# Plot the PDF and the CDF of the distribution to get a feel for what a \"low\" D value is, and what a \"high\" D value is.\n",
    "# For example, for this data, \"low\" likely falls somewhere between 0.50 and 0.70.\n",
    "# The CDF is an alternative representation of that.\n",
    "#  The CDF is useful because it gives us an ~ \"percentage of being similar\" number between 0 and 1.\n",
    "#  This is useful for setting a cutoff for what it means to be \"similar\".\n",
    "plt.hist(motif_errors[~np.isnan(motif_errors)], bins=40, density=True)\n",
    "m, s = np.nanmean(motif_errors), np.nanstd(motif_errors)\n",
    "norm = scipy.stats.norm(m, s)\n",
    "X = np.arange(np.nanmin(motif_errors), np.nanmax(motif_errors), 0.001)\n",
    "plt.xlabel(\"$D$\")\n",
    "plt.ylabel(\"pdf\")\n",
    "plt.plot(X, norm.pdf(X))\n",
    "plt.show()\n",
    "plt.xlabel(\"$D$\")\n",
    "plt.ylabel(\"cdf\")\n",
    "plt.plot(X, norm.cdf(X))\n",
    "plt.show()"
   ]
  },
  {
   "cell_type": "code",
   "execution_count": 10,
   "metadata": {
    "collapsed": true
   },
   "outputs": [],
   "source": [
    "cutoff = 3.6  # Use the first valley in G(r) to set this cutoff.\n",
    "def calculate_gmean(aligned_data):\n",
    "    data = aligned_data\n",
    "    L1, L2, Linf, angular = data.L1Norm(), data.L2Norm(), data.LinfNorm(), data.angular_variation(neighbor_cutoff=cutoff)\n",
    "    L2 /= L2_norm_factors['divide_by']\n",
    "    L1 /= L1_norm_factors['divide_by']\n",
    "    Linf /= Linf_norm_factors['divide_by']\n",
    "    angular /= angular_norm_factors['divide_by']\n",
    "    g = scipy.stats.gmean((L2, L1, Linf, angular))\n",
    "    return g"
   ]
  },
  {
   "cell_type": "code",
   "execution_count": null,
   "metadata": {
    "collapsed": true
   },
   "outputs": [],
   "source": []
  },
  {
   "cell_type": "code",
   "execution_count": 11,
   "metadata": {
    "scrolled": false
   },
   "outputs": [
    {
     "name": "stdout",
     "output_type": "stream",
     "text": [
      "9\n",
      "0.0460662796754 0.657183552603 averaged_13 averaged_1600K_CN9_manual\n",
      "0.0588076790476 0.675832101892 averaged_1600K_CN9_manual averaged_13\n"
     ]
    },
    {
     "data": {
      "image/png": "[encoded data removed]",
      "text/plain": [
       "<Figure size 432x288 with 1 Axes>"
      ]
     },
     "metadata": {},
     "output_type": "display_data"
    },
    {
     "name": "stdout",
     "output_type": "stream",
     "text": [
      "10\n",
      "0.00412268517431 0.507611064551 averaged_7 averaged_1600K_CN10_manual\n",
      "0.0029298146764 0.489854609213 averaged_1600K_CN10_manual averaged_7\n"
     ]
    },
    {
     "data": {
      "image/png": "[encoded data removed]",
      "text/plain": [
       "<Figure size 432x288 with 1 Axes>"
      ]
     },
     "metadata": {},
     "output_type": "display_data"
    },
    {
     "name": "stdout",
     "output_type": "stream",
     "text": [
      "11\n",
      "12\n",
      "0.901230388972 1.12152838272 Z12_FK averaged_1\n",
      "0.999606145357 1.44461574595 Z12_FK averaged_8\n",
      "0.99907256189 1.40641940821 Z12_FK averaged_11\n",
      "0.836042268377 1.07306522641 averaged_1 Z12_FK\n",
      "0.0976774265614 0.717998886187 averaged_1 averaged_8\n",
      "0.185810764975 0.78070496357 averaged_1 averaged_11\n",
      "0.998976968973 1.40187847955 averaged_8 Z12_FK\n",
      "0.0941322553877 0.714745203074 averaged_8 averaged_1\n",
      "0.302142096544 0.83930795877 averaged_8 averaged_11\n",
      "0.999524349035 1.43641059718 averaged_11 Z12_FK\n",
      "0.168406899762 0.770233683835 averaged_11 averaged_1\n",
      "0.281666378147 0.829991094456 averaged_11 averaged_8\n"
     ]
    },
    {
     "data": {
      "image/png": "[encoded data removed]",
      "text/plain": [
       "<Figure size 432x288 with 1 Axes>"
      ]
     },
     "metadata": {},
     "output_type": "display_data"
    },
    {
     "name": "stdout",
     "output_type": "stream",
     "text": [
      "13\n",
      "14\n",
      "0.0140017239192 0.577057894991 averaged_6 averaged_9\n",
      "0.0468009831667 0.658364120648 averaged_6 averaged_14\n",
      "0.175535535235 0.774601842189 averaged_6 averaged_15\n",
      "0.0155242813355 0.583428836133 averaged_9 averaged_6\n",
      "0.0337440413106 0.63466713631 averaged_9 averaged_14\n",
      "0.020097092848 0.599782797942 averaged_9 averaged_15\n",
      "0.0616231906379 0.679513980832 averaged_14 averaged_6\n",
      "0.025365825723 0.615090716279 averaged_14 averaged_9\n",
      "0.0851837385265 0.706108622613 averaged_14 averaged_15\n",
      "0.153122764129 0.760447734258 averaged_15 averaged_6\n",
      "0.0182113337259 0.593467906165 averaged_15 averaged_9\n",
      "0.0847912071617 0.705714567802 averaged_15 averaged_14\n"
     ]
    },
    {
     "data": {
      "image/png": "[encoded data removed]",
      "text/plain": [
       "<Figure size 432x288 with 1 Axes>"
      ]
     },
     "metadata": {},
     "output_type": "display_data"
    },
    {
     "name": "stdout",
     "output_type": "stream",
     "text": [
      "15\n",
      "0.068950255056 0.688516215918 averaged_3 averaged_16\n",
      "0.0810170996559 0.701854067936 averaged_16 averaged_3\n"
     ]
    },
    {
     "data": {
      "image/png": "[encoded data removed]",
      "text/plain": [
       "<Figure size 432x288 with 1 Axes>"
      ]
     },
     "metadata": {},
     "output_type": "display_data"
    },
    {
     "name": "stdout",
     "output_type": "stream",
     "text": [
      "16\n"
     ]
    }
   ],
   "source": [
    "# Align every motif to every other motif with the same CN.\n",
    "#  Plot the alignment scores (D) on the CDF curve. This helps us get a feel for how similar the motifs are to one another.\n",
    "for cn in sorted(motifs_by_cn.keys()):\n",
    "    print(cn)\n",
    "    cs = []\n",
    "    for m1 in motifs_by_cn[cn]:\n",
    "        for m2 in motifs_by_cn[cn]:\n",
    "            if m1 == m2:\n",
    "                continue\n",
    "            data = align(m1.filename, m2.filename)\n",
    "            data = AlignedData.from_mapping(data)\n",
    "            g = calculate_gmean(data)\n",
    "            c = norm.cdf(g)\n",
    "            cs.append((g, c))\n",
    "            print(c, g, m1.filename.stem, m2.filename.stem)\n",
    "    if cs:\n",
    "        x, y = zip(*sorted(cs))\n",
    "        x, y = list(x), list(y)\n",
    "        plt.xlabel(\"$D$\")\n",
    "        plt.ylabel(\"cdf\")\n",
    "        plt.title(f\"CN = {cn}\")\n",
    "        plt.plot(x, y, 'o')\n",
    "        plt.plot(X, norm.cdf(X))\n",
    "        plt.xlim([np.amin(X), np.amax(X)])\n",
    "        plt.grid()\n",
    "        plt.show()"
   ]
  },
  {
   "cell_type": "code",
   "execution_count": 12,
   "metadata": {
    "collapsed": true
   },
   "outputs": [],
   "source": [
    "def merge_sets(tuple_list):\n",
    "    \"\"\"Given a list of tuples, some of which may have common elements, combine the tuples into disjoint tuples.\"\"\"\n",
    "    iset = set([frozenset(s) for s in tuple_list])  # Convert to a set of sets\n",
    "    result = []\n",
    "    while(iset):                  # While there are sets left to process:\n",
    "        nset = set(iset.pop())      # Pop a new set\n",
    "        check = len(iset)           # Does iset contain more sets\n",
    "        while check:                # Until no more sets to check:\n",
    "            check = False\n",
    "            for s in iset.copy():       # For each other set:\n",
    "                if nset.intersection(s):  # if they intersect:\n",
    "                    check = True            # Must recheck previous sets\n",
    "                    iset.remove(s)          # Remove it from remaining sets\n",
    "                    nset.update(s)          # Add it to the current set\n",
    "        result.append(tuple(nset))  # Convert back to a list of tuples \n",
    "    return result"
   ]
  },
  {
   "cell_type": "code",
   "execution_count": 13,
   "metadata": {
    "collapsed": true
   },
   "outputs": [],
   "source": [
    "def assign(c, motifs, cluster_cn):\n",
    "    \"\"\"Assigned a cluster C to a motif. Input is the cluster index, output is the motif index.\n",
    "    Constrain assignments to the same CN.\"\"\"\n",
    "    e = np.inf\n",
    "    idx = np.nan\n",
    "    for i, motif in enumerate(motifs):\n",
    "        if np.abs(cluster_cn - motif.CN) > 0:  # Enforce CN similarity +- 0\n",
    "            continue\n",
    "        if motif.errors[c] < e:\n",
    "            e = motif.errors[c]\n",
    "            idx = i\n",
    "    return idx, e\n",
    "\n",
    "#assignments = np.zeros((NCLUSTERS))\n",
    "#assignments.fill(np.nan)\n",
    "#for c in range(NCLUSTERS):\n",
    "#    assignments[c] = assign(c, motifs, cluster_cns[c])[0]"
   ]
  },
  {
   "cell_type": "code",
   "execution_count": 14,
   "metadata": {
    "collapsed": true
   },
   "outputs": [],
   "source": [
    "# The goal now is to identify a *unique* \"basis set\" of motifs that accuracy describes the structure of the system.\n",
    "#  There are two big problems to solve. First, What does \"unique\" mean? Or in other words, what does it mean for\n",
    "#   two clusters to be so similar that we should consider them identical? The above CDF plots help us determine this.\n",
    "#   In my experience, a CDF cutoff of ~ 0.015 works reasonably well.\n",
    "#  Second, What does it mean to have a set of motifs that \"accurately describe the structure of the system\"?\n",
    "#   You can come up with whatever definition fits your use case. I have chosen to use the idea that the best basis\n",
    "#   set is one that most precisely represents the clusters in the glass. I have defined this as the set of unique\n",
    "#   clusters that have the loweset total mean D after assignment of each cluster to each motif.\n",
    "#   More concretely, I minimize:\n",
    "#      MEAN[ MEAN[D(cluster, motif) for all clusters assigned to the motif] for all motifs]\n",
    "#    subject to the constraint that the motifs are unique.\n",
    "#  To implement this algorithm, we need to assign each cluster to each motif every time we test a new basis set.\n",
    "#   To start, we have some motifs that are non-unique, call them for example motif A and motif B.\n",
    "#   Because motifs A and B have the same structure, we need to remove one of them. Which one do we remove?\n",
    "#   We remove the one that represents most _poorly_ the clusters that were assigned to it.\n",
    "#   This motivates the \"choose_worst_motif\" function below.\n",
    "#   The \"choose_best_motif\" is implemented similarly, but not used here."
   ]
  },
  {
   "cell_type": "code",
   "execution_count": 15,
   "metadata": {
    "collapsed": true
   },
   "outputs": [],
   "source": [
    "def choose_best_motif(motifs):\n",
    "    motifs = list(motifs)\n",
    "    \n",
    "    assignments = np.zeros((NCLUSTERS))\n",
    "    assignments.fill(np.nan)\n",
    "    for c in range(NCLUSTERS):\n",
    "        assignments[c] = assign(c, motifs, cluster_cns[c])[0]\n",
    "    \n",
    "    means = []\n",
    "    for motif in motifs:\n",
    "        #m = np.nanmean(motif.errors[np.where(cluster_cns == motif.CN)])\n",
    "        m = np.nanmean(motif.errors[np.where(assignments == i)])\n",
    "        means.append(m)\n",
    "    k = np.argmin(means)\n",
    "    return motifs[k]\n",
    "\n",
    "def choose_worst_motif(motifs):\n",
    "    motifs = list(motifs)\n",
    "    \n",
    "    assignments = np.zeros((NCLUSTERS))\n",
    "    assignments.fill(np.nan)\n",
    "    for c in range(NCLUSTERS):\n",
    "        assignments[c] = assign(c, motifs, cluster_cns[c])[0]\n",
    "    \n",
    "    means = []\n",
    "    for i, motif in enumerate(motifs):\n",
    "        #m = np.nanmean(motif.errors[np.where(cluster_cns == motif.CN)])\n",
    "        m = np.nanmean(motif.errors[np.where(assignments == i)])\n",
    "        means.append(m)\n",
    "    k = np.argmax(means)\n",
    "    return motifs[k]"
   ]
  },
  {
   "cell_type": "code",
   "execution_count": 16,
   "metadata": {
    "collapsed": true
   },
   "outputs": [],
   "source": [
    "def calculate_basis(motifs, cdf_cutoff):\n",
    "    consider_these = list(motifs)\n",
    "    \n",
    "    # First calculate all the alignment scores\n",
    "    alignment_scores = {}\n",
    "    for m1 in consider_these:\n",
    "        for m2 in consider_these:\n",
    "            if m1 == m2:\n",
    "                continue\n",
    "            data = align(m1.filename, m2.filename)\n",
    "            data = AlignedData.from_mapping(data)\n",
    "            g = calculate_gmean(data)\n",
    "            c = norm.cdf(g)\n",
    "            if c < cdf_cutoff:\n",
    "                print(c, m1.filename.stem, m2.filename.stem)\n",
    "            alignment_scores[tuple(sorted((m1.filename.stem, m2.filename.stem)))] = c\n",
    "            \n",
    "    while True:\n",
    "        identical = set()\n",
    "        for m1 in consider_these:\n",
    "            for m2 in consider_these:\n",
    "                if m1 == m2:\n",
    "                    continue\n",
    "                f1, f2 = m1.filename.stem, m2.filename.stem\n",
    "                c = alignment_scores[tuple(sorted((f1,f2)))]\n",
    "                if c < cdf_cutoff:\n",
    "                    a = frozenset({m1, m2})\n",
    "                    identical.add(a)\n",
    "        identical = merge_sets(identical)\n",
    "        print('\"identical\" motifs:')\n",
    "        for subset in identical:\n",
    "            print(\"  \", [motif.filename.stem for motif in subset])\n",
    "\n",
    "        remove = []\n",
    "        for subset in identical:\n",
    "            motif = choose_worst_motif(subset)\n",
    "            remove.append(motif)\n",
    "        print(f\"Removing: {[motif.filename.stem for motif in remove]}\")\n",
    "        for r in remove:\n",
    "            for motif in consider_these:\n",
    "                if motif is r:\n",
    "                    consider_these.remove(motif)\n",
    "                    break\n",
    "        if not remove:\n",
    "            return consider_these"
   ]
  },
  {
   "cell_type": "code",
   "execution_count": 17,
   "metadata": {
    "scrolled": false
   },
   "outputs": [
    {
     "name": "stdout",
     "output_type": "stream",
     "text": [
      "CN 9 has 2 motifs\n",
      "\"identical\" motifs:\n",
      "Removing: []\n",
      "Basis for CN 9: ['averaged_13', 'averaged_1600K_CN9_manual']\n",
      "CN 10 has 2 motifs\n",
      "0.00412268517431 averaged_7 averaged_1600K_CN10_manual\n",
      "0.0029298146764 averaged_1600K_CN10_manual averaged_7\n",
      "\"identical\" motifs:\n",
      "   ['averaged_7', 'averaged_1600K_CN10_manual']\n",
      "Removing: ['averaged_1600K_CN10_manual']\n",
      "\"identical\" motifs:\n",
      "Removing: []\n",
      "Basis for CN 10: ['averaged_7']\n",
      "CN 11 has 1 motifs\n",
      "\"identical\" motifs:\n",
      "Removing: []\n",
      "Basis for CN 11: ['averaged_12']\n",
      "CN 12 has 4 motifs\n",
      "\"identical\" motifs:\n",
      "Removing: []\n",
      "Basis for CN 12: ['Z12_FK', 'averaged_1', 'averaged_8', 'averaged_11']\n",
      "CN 13 has 1 motifs\n",
      "\"identical\" motifs:\n",
      "Removing: []\n",
      "Basis for CN 13: ['averaged_0']\n",
      "CN 14 has 4 motifs\n",
      "0.0140017239192 averaged_6 averaged_9\n",
      "\"identical\" motifs:\n",
      "Removing: []\n",
      "Basis for CN 14: ['averaged_6', 'averaged_9', 'averaged_14', 'averaged_15']\n",
      "CN 15 has 2 motifs\n",
      "\"identical\" motifs:\n",
      "Removing: []\n",
      "Basis for CN 15: ['averaged_3', 'averaged_16']\n",
      "CN 16 has 1 motifs\n",
      "\"identical\" motifs:\n",
      "Removing: []\n",
      "Basis for CN 16: ['averaged_2']\n"
     ]
    }
   ],
   "source": [
    "cdf_cutoff = 0.015\n",
    "\n",
    "BASIS = []\n",
    "for CN in sorted(motifs_by_cn.keys()):\n",
    "    print(f\"CN {CN} has {len(motifs_by_cn[CN])} motifs\")\n",
    "    basis = calculate_basis(motifs_by_cn[CN], cdf_cutoff)\n",
    "    print(f\"Basis for CN {CN}: {[motif.filename.stem for motif in basis]}\")\n",
    "    BASIS.extend(basis)"
   ]
  },
  {
   "cell_type": "code",
   "execution_count": 18,
   "metadata": {},
   "outputs": [
    {
     "name": "stdout",
     "output_type": "stream",
     "text": [
      "16\n",
      "9 (0, 3, 6, 0) averaged_13\n",
      "9 (0, 3, 6, 0) averaged_1600K_CN9_manual\n",
      "10 (0, 2, 8, 0) averaged_7\n",
      "11 (0, 2, 8, 1) averaged_12\n",
      "12 (0, 0, 12, 0) Z12_FK\n",
      "12 (0, 2, 8, 2) averaged_1\n",
      "12 (0, 3, 6, 3) averaged_8\n",
      "12 (0, 3, 6, 3) averaged_11\n",
      "13 (0, 1, 10, 2) averaged_0\n",
      "14 (0, 0, 12, 2) averaged_6\n",
      "14 (0, 1, 10, 3) averaged_9\n",
      "14 (0, 2, 8, 4) averaged_14\n",
      "14 (0, 0, 12, 2) averaged_15\n",
      "15 (0, 1, 10, 4) averaged_3\n",
      "15 (0, 0, 12, 3) averaged_16\n",
      "16 (0, 0, 12, 4) averaged_2\n"
     ]
    }
   ],
   "source": [
    "print(len(BASIS))\n",
    "for motif in BASIS:\n",
    "    print(motif.CN, motif.vp_index[:4], motif.filename.stem)"
   ]
  },
  {
   "cell_type": "code",
   "execution_count": 19,
   "metadata": {},
   "outputs": [
    {
     "name": "stdout",
     "output_type": "stream",
     "text": [
      "mv averaged_1600K_CN10_manual.xyz ignore_averaged_1600K_CN10_manual.xyz\n"
     ]
    }
   ],
   "source": [
    "# Print my (re)move commands\n",
    "\n",
    "for motif in motifs:\n",
    "    if motif not in BASIS:\n",
    "        print(f\"mv {motif.filename.name} ignore_{motif.filename.name}\")"
   ]
  },
  {
   "cell_type": "code",
   "execution_count": null,
   "metadata": {
    "collapsed": true
   },
   "outputs": [],
   "source": []
  }
 ],
 "metadata": {
  "kernelspec": {
   "display_name": "Python 3",
   "language": "python",
   "name": "python3"
  },
  "language_info": {
   "codemirror_mode": {
    "name": "ipython",
    "version": 3
   },
   "file_extension": ".py",
   "mimetype": "text/x-python",
   "name": "python",
   "nbconvert_exporter": "python",
   "pygments_lexer": "ipython3",
   "version": "3.6.2"
  }
 },
 "nbformat": 4,
 "nbformat_minor": 2
}
